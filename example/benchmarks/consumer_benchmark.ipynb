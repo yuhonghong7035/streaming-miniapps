{
 "cells": [
  {
   "cell_type": "markdown",
   "metadata": {},
   "source": [
    "# End to End Benchmark: Producer (Dask) - Kafka Cluster - Consumer (Spark)"
   ]
  },
  {
   "cell_type": "code",
   "execution_count": 3,
   "metadata": {},
   "outputs": [],
   "source": [
    "%%capture\n",
    "# System Libraries\n",
    "import sys, os\n",
    "sys.path.insert(0, \"..\")\n",
    "import pandas as pd\n",
    "\n",
    "## logging\n",
    "import logging\n",
    "logging.basicConfig(level=logging.DEBUG)\n",
    "logging.getLogger().setLevel(logging.ERROR)\n",
    "logging.getLogger(\"py4j\").setLevel(logging.ERROR)\n",
    "logging.getLogger(\"radical.utils\").setLevel(logging.ERROR)\n",
    " \n",
    "# Pilot-Streaming\n",
    "import pilot.streaming\n",
    "import masa.spark\n",
    "import mass.kafka"
   ]
  },
  {
   "cell_type": "markdown",
   "metadata": {},
   "source": [
    "1. Setup resources for test\n",
    "2. Start Producer Mini App in Dask producing synthetic data\n",
    "3. Start Consumer Mini App in Spark for processing data"
   ]
  },
  {
   "cell_type": "code",
   "execution_count": null,
   "metadata": {},
   "outputs": [
    {
     "name": "stdout",
     "output_type": "stream",
     "text": [
      "**** Job: 60344 State : Pending\n",
      "look for configs in: /work/01131/tg804093/wrangler/work/kafka-703f0ef8-fa6f-11e7-a42e-549f3509766c/config\n",
      "['broker-0']\n",
      "Kafka Config: /work/01131/tg804093/wrangler/work/kafka-703f0ef8-fa6f-11e7-a42e-549f3509766c/config (Mon Jan 15 21:43:38 2018)\n",
      "{'zookeeper.connection.timeout.ms': '6000', 'broker.id': '0', 'listeners': 'PLAINTEXT://c251-133:9092', 'zookeeper.connect': 'c251-133:2181'}\n",
      "**** Job: 60346 State : Pending\n"
     ]
    }
   ],
   "source": [
    "num_broker_nodes=1\n",
    "num_producer_nodes=1\n",
    "number_spark_nodes=1\n",
    "run_id = \"1\"\n",
    "topic_name = \"test\" + run_id\n",
    "number_parallel_tasks=8\n",
    "\n",
    "kafka_pilot_description1 = {\n",
    "                    \"resource\":\"slurm+ssh://login1.wrangler.tacc.utexas.edu\",\n",
    "                    \"working_directory\": os.path.join('/work/01131/tg804093/wrangler/', \"work\"),\n",
    "                    \"number_cores\": 48*num_broker_nodes,\n",
    "                    \"project\": \"TG-MCB090174\",\n",
    "                    \"queue\": \"normal\",\n",
    "                    \"walltime\": 159,\n",
    "                    \"type\":\"kafka\"\n",
    "                }\n",
    "kafka_pilot = pilot.streaming.PilotComputeService.create_pilot(kafka_pilot_description1)\n",
    "kafka_pilot.wait()\n",
    "\n",
    "dask_pilot_description = {\n",
    "    \"resource\":\"slurm+ssh://login1.wrangler.tacc.utexas.edu\",\n",
    "    \"working_directory\": os.path.join('/work/01131/tg804093/wrangler/', \"work\"),\n",
    "    \"number_cores\": 48*num_producer_nodes,\n",
    "    \"project\": \"TG-MCB090174\",\n",
    "    \"queue\": \"normal\",\n",
    "    \"walltime\": 159,\n",
    "    \"type\":\"dask\"\n",
    "}\n",
    "dask_pilot = pilot.streaming.PilotComputeService.create_pilot(dask_pilot_description)\n",
    "dask_pilot.wait()\n",
    "\n",
    "spark_pilot_description = {\n",
    "    \"resource\":\"slurm+ssh://login1.wrangler.tacc.utexas.edu\",\n",
    "    \"working_directory\": os.path.join('/work/01131/tg804093/wrangler/', \"work\"),\n",
    "    \"number_cores\": 48*number_spark_nodes,\n",
    "    \"project\": \"TG-MCB090174\",\n",
    "    \"queue\": \"normal\",\n",
    "    \"walltime\": 159,\n",
    "    \"type\":\"spark\"\n",
    "}\n",
    "spark_pilot = pilot.streaming.PilotComputeService.create_pilot(spark_pilot_description)\n",
    "spark_pilot.wait()\n",
    "\n",
    "prod=mass.kafka.MiniApp(\n",
    "                           dask_scheduler=dask_pilot.get_details()['master_url'],\n",
    "                           kafka_zk_hosts=kafka_pilot.get_details()[\"master_url\"],\n",
    "                           number_parallel_tasks=number_parallel_tasks,\n",
    "                           number_clusters=192, # kmeans\n",
    "                           number_points_per_cluster=52084, # kmeans\n",
    "                           number_points_per_message=5000, # kmeans\n",
    "                           number_dim=3, # kmeans\n",
    "                           number_messages=6400, # light\n",
    "                           number_produces=2,\n",
    "                           number_partitions=num_broker_nodes*12,\n",
    "                           topic_name=topic_name,\n",
    "                           application_type = \"kmeans\"\n",
    "                        )\n",
    "prod.run_in_background()\n",
    "\n",
    "consumer = masa.spark.MiniApp(\n",
    "                          spark_master=spark_pilot.get_details()[\"master_url\"],\n",
    "                          kafka_zk_hosts=kafka_pilot.get_details()[\"master_url\"],\n",
    "                          topic_name = topic_name,\n",
    "                          scenario=\"1-1-1\"\n",
    "                         )\n",
    "consumer.run_in_background()\n",
    "\n",
    "# Wait for completion\n",
    "prod.wait()\n",
    "consumer.cancel()\n",
    "\n",
    "kafka_pilot.cancel()\n",
    "dask_pilot.cancel()\n",
    "spark_pilot.cancel()"
   ]
  }
 ],
 "metadata": {
  "kernelspec": {
   "display_name": "Python 2",
   "language": "python",
   "name": "python2"
  },
  "language_info": {
   "codemirror_mode": {
    "name": "ipython",
    "version": 2
   },
   "file_extension": ".py",
   "mimetype": "text/x-python",
   "name": "python",
   "nbconvert_exporter": "python",
   "pygments_lexer": "ipython2",
   "version": "2.7.14"
  }
 },
 "nbformat": 4,
 "nbformat_minor": 2
}
