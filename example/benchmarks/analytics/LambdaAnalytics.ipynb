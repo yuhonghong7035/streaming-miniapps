{
 "cells": [
  {
   "cell_type": "markdown",
   "metadata": {},
   "source": [
    "# Analyze Lambda Logs in CloudWatch"
   ]
  },
  {
   "cell_type": "markdown",
   "metadata": {},
   "source": [
    "Get Data from CloudWatch"
   ]
  },
  {
   "cell_type": "code",
   "execution_count": null,
   "metadata": {},
   "outputs": [],
   "source": [
    "import boto3\n",
    "import pandas as pd\n",
    "boto3.setup_default_session(profile_name='dev')\n",
    "client = boto3.client('logs', region_name='us-east-1')"
   ]
  },
  {
   "cell_type": "code",
   "execution_count": null,
   "metadata": {},
   "outputs": [],
   "source": [
    "groups=client.describe_log_groups()['logGroups']\n",
    "report_events=[]\n",
    "kmeans_events=[]\n",
    "for i in groups:\n",
    "    if i['logGroupName'].startswith(\"/aws/lambda\"):\n",
    "        response= client.filter_log_events(logGroupName=i['logGroupName'], filterPattern=\"REPORT\")\n",
    "        report_events.extend(response[\"events\"])\n",
    "        response= client.filter_log_events(logGroupName=i['logGroupName'], filterPattern=\"LambdaKMeans\")\n",
    "        kmeans_events.extend(response[\"events\"])\n",
    "        "
   ]
  },
  {
   "cell_type": "code",
   "execution_count": null,
   "metadata": {},
   "outputs": [],
   "source": [
    "report_data=[i['message'].split(\"\\t\") for i in report_events]"
   ]
  },
  {
   "cell_type": "code",
   "execution_count": null,
   "metadata": {},
   "outputs": [],
   "source": [
    "lines=[]\n",
    "header=[]\n",
    "for record in report_data:\n",
    "    line = []\n",
    "    header=[]\n",
    "    for column in record:\n",
    "        try:\n",
    "            line.append(column.split(\":\")[1].strip().rstrip('MB').rstrip(\"ms\").strip())\n",
    "            header.append(column.split(\":\")[0].lstrip(\"REPORT\").strip())\n",
    "        except:\n",
    "            pass\n",
    "    lines.append(line)\n",
    "        "
   ]
  },
  {
   "cell_type": "code",
   "execution_count": null,
   "metadata": {},
   "outputs": [],
   "source": [
    "accounting=pd.DataFrame(lines, columns=header)\n",
    "accounting"
   ]
  },
  {
   "cell_type": "code",
   "execution_count": null,
   "metadata": {},
   "outputs": [],
   "source": [
    "kmeans_data=[i['message'].strip().split(\",\") for i in kmeans_events]\n",
    "runtime = pd.DataFrame(kmeans_data, columns=[\"Measurement\", \"RequestID\", \"Log Group\", \"Log Stream\", \"Cores\",\"Number Points\", \"Number Dimensions\", \"Processing Time\", \"Latency\"])\n",
    "runtime"
   ]
  },
  {
   "cell_type": "code",
   "execution_count": null,
   "metadata": {},
   "outputs": [],
   "source": [
    "all_df = runtime.join(accounting)"
   ]
  },
  {
   "cell_type": "code",
   "execution_count": null,
   "metadata": {},
   "outputs": [],
   "source": [
    "all_df"
   ]
  },
  {
   "cell_type": "markdown",
   "metadata": {},
   "source": [
    "# Clean S3 and CloudWatch"
   ]
  },
  {
   "cell_type": "code",
   "execution_count": null,
   "metadata": {},
   "outputs": [],
   "source": [
    "response=client.describe_log_groups()\n",
    "for i in response['logGroups']:\n",
    "    print(\"Delete %s\"%str(i[\"logGroupName\"]))\n",
    "    client.delete_log_group(logGroupName=i[\"logGroupName\"])"
   ]
  },
  {
   "cell_type": "code",
   "execution_count": null,
   "metadata": {},
   "outputs": [],
   "source": [
    "import os\n",
    "output=!aws s3 ls --profile dev | awk -F\" \" '{print $3}'\n",
    "for i in output:\n",
    "    print(i)\n",
    "    os.system(\"aws s3 rm s3://%s --recursive --profile dev\"%i)\n",
    "    os.system(\"aws s3 rb s3://%s --profile dev\"%i)"
   ]
  }
 ],
 "metadata": {
  "kernelspec": {
   "display_name": "Python 3",
   "language": "python",
   "name": "python3"
  },
  "language_info": {
   "codemirror_mode": {
    "name": "ipython",
    "version": 3
   },
   "file_extension": ".py",
   "mimetype": "text/x-python",
   "name": "python",
   "nbconvert_exporter": "python",
   "pygments_lexer": "ipython3",
   "version": "3.6.6"
  }
 },
 "nbformat": 4,
 "nbformat_minor": 2
}
