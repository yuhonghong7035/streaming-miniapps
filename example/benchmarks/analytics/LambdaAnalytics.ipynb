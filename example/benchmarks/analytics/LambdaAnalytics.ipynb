{
 "cells": [
  {
   "cell_type": "markdown",
   "metadata": {},
   "source": [
    "# Analyze Lambda Logs in CloudWatch"
   ]
  },
  {
   "cell_type": "markdown",
   "metadata": {},
   "source": [
    "Get Data from CloudWatch"
   ]
  },
  {
   "cell_type": "code",
   "execution_count": null,
   "metadata": {},
   "outputs": [],
   "source": [
    "import boto3\n",
    "import pandas as pd\n",
    "import pandas as pd\n",
    "import numpy as np\n",
    "\n",
    "class display(object):\n",
    "    \"\"\"Display HTML representation of multiple objects\"\"\"\n",
    "    template = \"\"\"<div style=\"float: left; padding: 10px;\">\n",
    "    <p style='font-family:\"Courier New\", Courier, monospace'>{0}</p>{1}\n",
    "    </div>\"\"\"\n",
    "    def __init__(self, *args):\n",
    "        self.args = args\n",
    "        \n",
    "    def _repr_html_(self):\n",
    "        return '\\n'.join(self.template.format(a, eval(a)._repr_html_())\n",
    "                         for a in self.args)\n",
    "    \n",
    "    def __repr__(self):\n",
    "        return '\\n\\n'.join(a + '\\n' + repr(eval(a))\n",
    "                           for a in self.args)\n",
    "\n",
    "\n",
    "boto3.setup_default_session(profile_name='dev')\n",
    "client = boto3.client('logs', region_name='us-east-1')\n",
    "groups=client.describe_log_groups()['logGroups']\n",
    "\n",
    "start_events=[]\n",
    "report_events=[]\n",
    "kmeans_events=[]\n",
    "for i in groups:\n",
    "    if i['logGroupName'].startswith(\"/aws/lambda\"):\n",
    "        response= client.filter_log_events(logGroupName=i['logGroupName'], filterPattern=\"START\")\n",
    "        start_events.extend(response[\"events\"])\n",
    "        response= client.filter_log_events(logGroupName=i['logGroupName'], filterPattern=\"REPORT\")\n",
    "        report_events.extend(response[\"events\"])\n",
    "        response= client.filter_log_events(logGroupName=i['logGroupName'], filterPattern=\"LambdaKMeans\")\n",
    "        kmeans_events.extend(response[\"events\"])\n",
    "\n",
    "# Output of KMeans Lambda Function\n",
    "kmeans_data=[i['message'].replace(\" \", \"\").strip().split(\",\") for i in kmeans_events]\n",
    "\n",
    "runtime = pd.DataFrame(kmeans_data, columns=[\"Measurement\", \"Request ID\", \"Log Group\", \n",
    "                                             \"Log Stream\", \"Cores\", \"Number Points\", \n",
    "                                             \"Number Dimensions\", \"Number Events\",  \"Number Clusters\",\n",
    "                                             \"Download Time\", \"Processing Time\", \"Upload Time\", \n",
    "                                             \"Total Time\",  \"Latency\"])\n",
    "\n",
    "print(\"Found %d records.\"%len(runtime))\n",
    "\n",
    "# Lambda Memory Report\n",
    "report_data=[(i['timestamp'], i['message'].split(\"\\t\")) for i in report_events]\n",
    "lines=[]\n",
    "header=[]\n",
    "end = []\n",
    "for record in report_data:\n",
    "    line = [record[0]]\n",
    "    header=[\"End Timestamp\"]\n",
    "    for column in record[1]:\n",
    "        try:\n",
    "            line.append(column.split(\":\")[1].strip().rstrip('MB').rstrip(\"ms\").strip())\n",
    "            header.append(column.split(\":\")[0].lstrip(\"REPORT\").strip())\n",
    "        except:\n",
    "            pass\n",
    "    lines.append(line)\n",
    "accounting=pd.DataFrame(lines, columns=header)\n",
    "\n",
    "# Start Time for Request\n",
    "start_data=[(i[\"timestamp\"], i['message'].split(\" \")[2]) for i in start_events]\n",
    "start = pd.DataFrame(start_data, columns=[\"Start Timestamp\", \"RequestId\"])\n",
    "all_df = pd.merge(runtime, accounting, left_on=\"Request ID\", right_on=\"RequestId\", how=\"inner\", suffixes=[\"_l\", \"_r\"])\n",
    "all_df = pd.merge(all_df, start, left_on=\"Request ID\", right_on=\"RequestId\", how=\"inner\", suffixes=[\"_l\", \"_r\"])\n",
    "all_df.head(3).T"
   ]
  },
  {
   "cell_type": "code",
   "execution_count": null,
   "metadata": {},
   "outputs": [],
   "source": [
    "len(all_df)"
   ]
  },
  {
   "cell_type": "code",
   "execution_count": null,
   "metadata": {},
   "outputs": [],
   "source": [
    "all_df.to_csv(\"lambda_2_2.csv\")"
   ]
  },
  {
   "cell_type": "code",
   "execution_count": null,
   "metadata": {},
   "outputs": [],
   "source": [
    "client.filter_log_events(logGroupName=i['logGroupName'], filterPattern=\"REPORT\")"
   ]
  },
  {
   "cell_type": "markdown",
   "metadata": {},
   "source": [
    "# Clean S3 and CloudWatch"
   ]
  },
  {
   "cell_type": "code",
   "execution_count": null,
   "metadata": {},
   "outputs": [],
   "source": [
    "response=client.describe_log_groups()\n",
    "for i in response['logGroups']:\n",
    "    print(\"Delete %s\"%str(i[\"logGroupName\"]))\n",
    "    client.delete_log_group(logGroupName=i[\"logGroupName\"])"
   ]
  },
  {
   "cell_type": "code",
   "execution_count": null,
   "metadata": {},
   "outputs": [],
   "source": [
    "import os\n",
    "output=!aws s3 ls --profile dev | awk -F\" \" '{print $3}'\n",
    "for i in output:\n",
    "    print(i)\n",
    "    os.system(\"aws s3 rm s3://%s --recursive --profile dev\"%i)\n",
    "    os.system(\"aws s3 rb s3://%s --profile dev\"%i)"
   ]
  },
  {
   "cell_type": "markdown",
   "metadata": {},
   "source": [
    "# Scratch"
   ]
  },
  {
   "cell_type": "code",
   "execution_count": null,
   "metadata": {},
   "outputs": [],
   "source": [
    "import sklearn.cluster, pickle\n",
    "import numpy as np\n",
    "kmeans_model = sklearn.cluster.MiniBatchKMeans(n_clusters=10)\n",
    "data = np.random.randn(30, 3)\n"
   ]
  },
  {
   "cell_type": "code",
   "execution_count": null,
   "metadata": {},
   "outputs": [],
   "source": [
    "if \"cluster_centers_\" in kmeans_model:\n",
    "    print (\"yes\")"
   ]
  },
  {
   "cell_type": "code",
   "execution_count": null,
   "metadata": {},
   "outputs": [],
   "source": [
    "kmeans_model.fit(data)\n",
    "kmeans_model.cluster_centers_"
   ]
  },
  {
   "cell_type": "code",
   "execution_count": null,
   "metadata": {},
   "outputs": [],
   "source": [
    "bucket_name = \"model-test-123\"\n",
    "s3_client = boto3.client('s3', region_name='us-east-1')\n",
    "s3_client.create_bucket(ACL='private', Bucket=bucket_name)"
   ]
  },
  {
   "cell_type": "code",
   "execution_count": null,
   "metadata": {},
   "outputs": [],
   "source": [
    "s3_client.put_object(Body=pickle.dumps(kmeans_model), \n",
    "                          Bucket=bucket_name, \n",
    "                          Key=\"model-lambda\")"
   ]
  },
  {
   "cell_type": "code",
   "execution_count": null,
   "metadata": {},
   "outputs": [],
   "source": [
    "model_pickle=s3_client.get_object(Bucket=bucket_name, \n",
    "              Key=\"model-lambda\")['Body'].read()"
   ]
  },
  {
   "cell_type": "code",
   "execution_count": null,
   "metadata": {},
   "outputs": [],
   "source": [
    "pickle.loads(model_pickle).cluster_centers_"
   ]
  },
  {
   "cell_type": "code",
   "execution_count": null,
   "metadata": {},
   "outputs": [],
   "source": []
  }
 ],
 "metadata": {
  "kernelspec": {
   "display_name": "Python 3",
   "language": "python",
   "name": "python3"
  },
  "language_info": {
   "codemirror_mode": {
    "name": "ipython",
    "version": 3
   },
   "file_extension": ".py",
   "mimetype": "text/x-python",
   "name": "python",
   "nbconvert_exporter": "python",
   "pygments_lexer": "ipython3",
   "version": "3.6.6"
  }
 },
 "nbformat": 4,
 "nbformat_minor": 2
}
