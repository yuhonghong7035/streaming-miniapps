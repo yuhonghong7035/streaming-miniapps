{
 "cells": [
  {
   "cell_type": "code",
   "execution_count": 2,
   "metadata": {},
   "outputs": [],
   "source": [
    "library(ggplot2)\n",
    "library(gdata)\n",
    "library(stringr)\n",
    "library(RColorBrewer)\n",
    "options(sqldf.driver = \"SQLite\") # as per FAQ #7 force SQLite\n",
    "options(gsubfn.engine = \"R\")\n",
    "library(sqldf)\n",
    "library(scales)\n",
    "library(reshape2)\n",
    "library(Hmisc)\n",
    "library(readr)\n",
    "library(tidyr)\n",
    "library(dplyr)\n",
    "library(forcats)\n",
    "library(gridExtra)"
   ]
  },
  {
   "cell_type": "code",
   "execution_count": null,
   "metadata": {},
   "outputs": [],
   "source": [
    "mass = read_csv(\"results/20\")\n",
    "describe(mass$Number_Partitions)\n",
    "\n",
    "#mass_filtered <-mass %>% filter(Bytes_per_Message<400000 & Number_Points_per_Message ==5000)\n",
    "\n",
    "mass_long = mass %>% drop_na(Time) \n",
    "\n",
    "mass_long = mass %>% drop_na() %>%\n",
    "  mutate(Bytes_per_sec = Records_per_sec*Bytes_per_Message)%>%\n",
    "  mutate(MBytes_per_sec = Bytes_per_sec/1000000,\n",
    "         Broker_Scenario = paste(Number_Brokers, \"Broker(s)\"))%>%\n",
    "  mutate(Scenario = paste(Application, \"-\", Number_Points_per_Message, sep=\"\"))%>%\n",
    "  #filter(Number_Points_per_Message!=10000 & Number_Points_per_Message!=20000)%>%\n",
    "  select(c(Application, Scenario, Broker_Scenario, Number_Points_per_Message, Number_Processes, \n",
    "           Number_Brokers, Number_Partitions, Number_Messages, Time, Points_per_sec,Records_per_sec,\n",
    "           Bytes_per_sec,MBytes_per_sec)) %>%\n",
    "  gather(type, value, c(Records_per_sec, MBytes_per_sec, Time)) %>%\n",
    "  mutate(type = fct_recode(as.factor(type), \n",
    "                           \"Messages/sec\" = \"Records_per_sec\" , \n",
    "                           \"MB/sec\" = \"MBytes_per_sec\"  )) %>% \n",
    "  mutate(Application = fct_recode(as.factor(Application), \n",
    "                                  \"KMeans-Random\" = \"kmeans\" , \n",
    "                                  \"Lightsource-static\" = \"light\",\n",
    "                                  \"KMeans-Static\" = \"kmeansstatic\"\n",
    "                                  )) \n",
    "\n",
    "\n",
    "\n",
    "pp <- ggplot(mass_long, aes(x=Number_Processes, y=value, color=Application, fill=Application)) +\n",
    "  geom_line(stat=\"summary\", fun.y=\"mean\",  size=1.1) + geom_point(stat=\"summary\", fun.y=\"mean\", size=1.7, show.legend = F) +\n",
    "  stat_summary(fun.data = \"mean_sdl\", geom = \"errorbar\", fun.args = list(mult=1), width=.2) + \n",
    "  #geom_bar(stat=\"summary\", fun.y=\"mean\",  size=1.05, position = position_dodge()) + #geom_point(stat=\"summary\", fun.y=\"mean\", size=1.7, show.legend = F) +\n",
    "  facet_grid(type~Number_Partitions,  scales = \"free_y\", space = \"fixed\")+\n",
    "  #geom_errorbar(mapping=aes(ymin=mean-stddev, ymax=mean+stddev), width=0.2, size=0.6, position = position_dodge(width = 0.90), color=\"black\") +\n",
    "  scale_fill_brewer(palette=\"Paired\")+ scale_color_brewer(palette=\"Paired\")+ \n",
    "  theme_bw(base_size = 20) + theme(legend.position = \"bottom\", plot.margin=grid::unit(c(0,0,0,-6), \"mm\")) + \n",
    "  #theme(axis.text.x = element_text(angle=45, hjust=1)) +\n",
    "  scale_x_continuous(trans=log2_trans(), breaks=c(1,2,4,8,16,32,64,128))+ \n",
    "  #scale_y_continuous(trans=log2_trans())+   \n",
    "  #scale_y_log10(breaks=c(1,10,100,200, 500))+   \n",
    "  xlab(\"Number Producer Core (1 Node)\") + \n",
    "  ylab(\"\") +\n",
    "  guides(fill=guide_legend(reverse=FALSE, ncol=5, keywidth=1)) +\n",
    "  labs(fill = \"Mini App Streaming Source:\")\n",
    "pp"
   ]
  }
 ],
 "metadata": {
  "kernelspec": {
   "display_name": "R",
   "language": "R",
   "name": "ir"
  },
  "language_info": {
   "codemirror_mode": "r",
   "file_extension": ".r",
   "mimetype": "text/x-r-source",
   "name": "R",
   "pygments_lexer": "r",
   "version": "3.5.1"
  }
 },
 "nbformat": 4,
 "nbformat_minor": 2
}
