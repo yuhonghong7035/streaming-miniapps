{
 "cells": [
  {
   "cell_type": "markdown",
   "metadata": {},
   "source": [
    "# MASS: Howto Mini App Streaming Source (MASS)\n",
    "\n",
    "This notebooks demonstrates the usage data source apps that can be used for the development and characterizing of streaming application.\n",
    "\n",
    "For Light Source - see TomoPy manual: <https://tomopy.readthedocs.io/en/latest/ipynb/tomopy.html>"
   ]
  },
  {
   "cell_type": "code",
   "execution_count": null,
   "metadata": {},
   "outputs": [],
   "source": [
    "%%capture\n",
    "\n",
    "%pylab inline\n",
    "%matplotlib inline\n",
    "\n",
    "import pandas as pd\n",
    "import matplotlib.pyplot as plt\n",
    "import os, sys, time\n",
    "sys.path.append(\"..\")\n",
    "import tomopy\n",
    "import pandas as pd\n",
    "import numpy\n",
    "import ast\n",
    "import dxchange\n",
    "import tempfile\n",
    "import pykafka\n",
    "import base64\n",
    "import io\n",
    "import binascii\n",
    "import tempfile\n",
    "import pykafka\n",
    "import datetime, time, json\n",
    "import mass.kafka\n",
    "\n",
    "## logging\n",
    "import logging\n",
    "logging.basicConfig(level=logging.ERROR)\n",
    "logging.getLogger().setLevel(logging.ERROR)\n",
    "logging.getLogger(\"py4j\").setLevel(logging.ERROR)\n",
    "logging.getLogger(\"radical.utils\").setLevel(logging.ERROR)\n",
    " \n",
    "import boto3\n",
    "boto3.setup_default_session(profile_name='dev')    \n",
    "    \n",
    "# Pilot-Streaming\n",
    "import pilot.streaming\n",
    "sys.modules['pilot.streaming']"
   ]
  },
  {
   "cell_type": "markdown",
   "metadata": {},
   "source": [
    "# Resource Setup"
   ]
  },
  {
   "cell_type": "markdown",
   "metadata": {},
   "source": [
    "## Kafka"
   ]
  },
  {
   "cell_type": "code",
   "execution_count": null,
   "metadata": {},
   "outputs": [],
   "source": [
    "kafka_pilot_description1 = {\n",
    "    \"resource\":\"slurm+ssh://login1.wrangler.tacc.utexas.edu\",\n",
    "    \"working_directory\": os.path.join('/work/01131/tg804093/wrangler/', \"work\"),\n",
    "    \"number_cores\": 48,\n",
    "    \"project\": \"TG-MCB090174\",\n",
    "    \"queue\": \"normal\",\n",
    "    \"walltime\": 159,\n",
    "    \"type\":\"kafka\"\n",
    "}\n",
    "kafka_pilot1 = pilot.streaming.PilotComputeService.create_pilot(kafka_pilot_description1)\n",
    "kafka_pilot1.wait()\n",
    "kafka_details = kafka_pilot1.get_details()\n",
    "kafka_details"
   ]
  },
  {
   "cell_type": "markdown",
   "metadata": {},
   "source": [
    "## Kinesis"
   ]
  },
  {
   "cell_type": "code",
   "execution_count": null,
   "metadata": {},
   "outputs": [],
   "source": [
    "number_partitions=4\n",
    "pilot_compute_description = {\n",
    "    \"resource\":\"kinesis://awscloud.com\",\n",
    "    \"number_cores\": number_partitions,\n",
    "    \"type\":\"kinesis\"\n",
    "}\n",
    "kinesis_pilot = pilot.streaming.PilotComputeService.create_pilot(pilot_compute_description)\n",
    "kinesis_pilot.wait()\n",
    "kinesis_details=kinesis_pilot.get_details()\n",
    "kinesis_pilot.get_details()"
   ]
  },
  {
   "cell_type": "markdown",
   "metadata": {},
   "source": [
    "## Dask"
   ]
  },
  {
   "cell_type": "code",
   "execution_count": null,
   "metadata": {},
   "outputs": [],
   "source": [
    "dask_pilot_description = {\n",
    "    \"resource\":\"slurm+ssh://login1.wrangler.tacc.utexas.edu\",\n",
    "    \"working_directory\": os.path.join('/work/01131/tg804093/wrangler/', \"work\"),\n",
    "    \"number_cores\": 48,\n",
    "    \"project\": \"TG-MCB090174\",\n",
    "    \"queue\": \"normal\",\n",
    "    \"walltime\": 159,\n",
    "    \"type\":\"dask\"\n",
    "}\n",
    "dask_pilot = pilot.streaming.PilotComputeService.create_pilot(dask_pilot_description)\n",
    "dask_pilot.wait()\n",
    "dask_details = dask_pilot.get_details()\n",
    "dask_details"
   ]
  },
  {
   "cell_type": "markdown",
   "metadata": {},
   "source": [
    "# Mini App Test"
   ]
  },
  {
   "cell_type": "markdown",
   "metadata": {},
   "source": [
    "## KMeans"
   ]
  },
  {
   "cell_type": "markdown",
   "metadata": {},
   "source": [
    "### Kinesis"
   ]
  },
  {
   "cell_type": "code",
   "execution_count": null,
   "metadata": {},
   "outputs": [],
   "source": [
    "miniapp=mass.kafka.MiniApp(\n",
    "                            #dask_scheduler=dask_details['master_url'],\n",
    "                            dask_scheduler=None,\n",
    "                            resource_url=kinesis_details[\"master_url\"],\n",
    "                            broker_service=\"kinesis\",\n",
    "                            number_parallel_tasks=2,\n",
    "                            number_clusters=10,\n",
    "                            number_points_per_cluster=10000,\n",
    "                            number_points_per_message=1000,\n",
    "                            number_messages=1,\n",
    "                            number_dim=3,\n",
    "                            number_produces=1,\n",
    "                            number_partitions=number_partitions,\n",
    "                            topic_name=\"test\",\n",
    "                            application_type=\"kmeans\"\n",
    "                           )\n",
    "miniapp.run()"
   ]
  },
  {
   "cell_type": "code",
   "execution_count": null,
   "metadata": {},
   "outputs": [],
   "source": [
    "boto3.setup_default_session(profile_name='dev')\n",
    "kinesis_client = boto3.client('kinesis', region_name='us-east-1')\n",
    "stream_name = kinesis_details[\"master_url\"].split(\"/\")[1]\n",
    "print(\"Stream Name: %s\"%stream_name)\n",
    "stream = kinesis_client.describe_stream(StreamName=stream_name)['StreamDescription']\n",
    "\n",
    "messages = []\n",
    "for shard in stream['Shards']:\n",
    "    print(\"### %s - %s\"%(stream_name, shard['ShardId']))\n",
    "    shard_iterator = kinesis_client.get_shard_iterator(\n",
    "        StreamName=stream_name,\n",
    "        ShardId=shard['ShardId'],\n",
    "        ShardIteratorType='AT_TIMESTAMP',  #'TRIM_HORIZON'|'LATEST'\n",
    "        Timestamp=datetime.datetime.utcnow() - datetime.timedelta(minutes=30)\n",
    "    )['ShardIterator']\n",
    "\n",
    "    out = kinesis_client.get_records(ShardIterator=shard_iterator, Limit=1000)\n",
    "    if out[\"Records\"]:\n",
    "        for record in out[\"Records\"]:\n",
    "            #data = json.loads()\n",
    "            messages.append(record[\"Data\"])\n",
    "    else:\n",
    "        print(out)\n",
    "        time.sleep(1)"
   ]
  },
  {
   "cell_type": "code",
   "execution_count": null,
   "metadata": {},
   "outputs": [],
   "source": [
    "len(messages)"
   ]
  },
  {
   "cell_type": "code",
   "execution_count": null,
   "metadata": {},
   "outputs": [],
   "source": [
    "count = 0\n",
    "number_total_points = 0\n",
    "for message in messages:\n",
    "    data_np = np.array(ast.literal_eval(message.decode(\"utf-8\")))\n",
    "    num_points = data_np.shape[0]\n",
    "    number_dimensions = data_np.shape[1]\n",
    "    count =  count + 1\n",
    "    number_total_points = number_total_points + num_points\n",
    "        \n",
    "print(\"Total Messages: %d, Total Points: %d, Number Dimensions: %d\"%(count, number_total_points, number_dimensions))"
   ]
  },
  {
   "cell_type": "markdown",
   "metadata": {},
   "source": [
    "### Kafka Broker\n",
    "\n",
    "Ensure that the correct amount of data was successfully written to Kafka"
   ]
  },
  {
   "cell_type": "code",
   "execution_count": null,
   "metadata": {},
   "outputs": [],
   "source": [
    "%%capture\n",
    "\n",
    "%pylab inline\n",
    "%matplotlib inline\n",
    "\n",
    "import pandas as pd\n",
    "import matplotlib.pyplot as plt\n",
    "import os, sys, time\n",
    "sys.path.append(\"..\")\n",
    "import tomopy\n",
    "import pandas as pd\n",
    "import numpy\n",
    "import ast\n",
    "import dxchange\n",
    "import tempfile\n",
    "import pykafka\n",
    "import base64\n",
    "import io\n",
    "import binascii\n",
    "import tempfile\n",
    "import pykafka\n",
    "import datetime, time, json\n",
    "import mass.kafka\n",
    "\n",
    "## logging\n",
    "import logging\n",
    "logging.basicConfig(level=logging.ERROR)\n",
    "logging.getLogger().setLevel(logging.ERROR)\n",
    "logging.getLogger(\"py4j\").setLevel(logging.ERROR)\n",
    "logging.getLogger(\"radical.utils\").setLevel(logging.ERROR)\n",
    " \n",
    "import boto3\n",
    "boto3.setup_default_session(profile_name='dev')    \n",
    "    \n",
    "# Pilot-Streaming\n",
    "import pilot.streaming\n",
    "sys.modules['pilot.streaming']"
   ]
  },
  {
   "cell_type": "code",
   "execution_count": null,
   "metadata": {},
   "outputs": [],
   "source": [
    "%%time\n",
    "miniapp=mass.kafka.MiniApp(\n",
    "                            #dask_scheduler=dask_details['master_url'],\n",
    "                            #dask_scheduler='tcp://c251-101:8786',\n",
    "                            dask_scheduler=None,\n",
    "                            resource_url='c251-126:2181',\n",
    "                            #resource_url=kafka_details[\"master_url\"],\n",
    "                            broker_service=\"confluent\",\n",
    "                            number_parallel_tasks=1,\n",
    "                            number_clusters=3,\n",
    "                            number_points_per_cluster=1000,\n",
    "                            number_points_per_message=1000,\n",
    "                            number_messages=1,\n",
    "                            number_dim=3,\n",
    "                            number_produces=1,\n",
    "                            number_partitions=1,\n",
    "                            topic_name=\"test-kmeans\",\n",
    "                            application_type=\"kmeans\"\n",
    "                           )\n",
    "miniapp.run()"
   ]
  },
  {
   "cell_type": "code",
   "execution_count": null,
   "metadata": {},
   "outputs": [],
   "source": [
    "kafka_details={}\n",
    "kafka_details[\"master_url\"] = 'c251-126:2181'\n",
    "client = pykafka.KafkaClient(zookeeper_hosts=kafka_details[\"master_url\"])\n",
    "topic = client.topics[\"test-kmeans\"]\n",
    "consumer = topic.get_simple_consumer(reset_offset_on_start=True)\n",
    "print(\"Brokers: %s, Number Brokers: %s\"%(str(client.brokers), str(len(client.brokers))))"
   ]
  },
  {
   "cell_type": "code",
   "execution_count": null,
   "metadata": {},
   "outputs": [],
   "source": [
    "i\n",
    "count = 0\n",
    "number_total_points = 0\n",
    "number_dimensions = 0\n",
    "for i in range(100):\n",
    "    message = consumer.consume(block=False)\n",
    "    if message is not None:\n",
    "        data_np = np.array(ast.literal_eval(message.value.decode(\"utf-8\")))\n",
    "        num_points = data_np.shape[0]\n",
    "        number_dimensions = data_np.shape[1]\n",
    "        count =  count + 1\n",
    "        number_total_points = number_total_points + num_points\n",
    "    #print \"Consumed message: %d, Number Points: %d, Number Dimensions: %d\"%\\\n",
    "    #        (count, num_points, number_dimensions)   \n",
    "        \n",
    "print(\"Total Messages: %d, Total Points: %d, Number Dimensions: %d\"%(count, number_total_points, number_dimensions))"
   ]
  },
  {
   "cell_type": "markdown",
   "metadata": {},
   "source": [
    "##  Light Source"
   ]
  },
  {
   "cell_type": "markdown",
   "metadata": {},
   "source": [
    "This tests the light source reconstruction data production Mini App\n",
    "\n",
    "Example GridRec Reconstruction"
   ]
  },
  {
   "cell_type": "code",
   "execution_count": null,
   "metadata": {},
   "outputs": [],
   "source": [
    "import binascii\n",
    "import tempfile\n",
    "import pykafka\n",
    "import dxchange\n",
    "import tomopy\n",
    "\n",
    "def reconstruct(message):\n",
    "    start = 0\n",
    "    end = 2\n",
    "    #msg_bin = base64.urlsafe_b64decode(message.value)\n",
    "    tf = tempfile.NamedTemporaryFile(delete=True)\n",
    "    #tf = open(\"test.h5\", \"w\")\n",
    "    tf.write(message)\n",
    "    tf.flush()\n",
    "    proj, flat, dark, theta = dxchange.read_aps_32id(tf.name, sino=(start, end))\n",
    "    theta = tomopy.angles(proj.shape[0])\n",
    "    proj = tomopy.normalize(proj, flat, dark)\n",
    "    rot_center = tomopy.find_center(proj, theta, init=290, ind=0, tol=0.5)\n",
    "    proj = tomopy.minus_log(proj)\n",
    "    recon = tomopy.recon(proj, theta, center=rot_center, algorithm='gridrec')\n",
    "    recon = tomopy.circ_mask(recon, axis=0, ratio=0.95)\n",
    "    return recon\n",
    "    #tf.close()"
   ]
  },
  {
   "cell_type": "markdown",
   "metadata": {},
   "source": [
    "### Kinesis"
   ]
  },
  {
   "cell_type": "code",
   "execution_count": null,
   "metadata": {},
   "outputs": [],
   "source": [
    "%%time\n",
    "\n",
    "pilot_compute_description = {\n",
    "    \"resource\":\"kinesis://awscloud.com\",\n",
    "    \"number_cores\": number_partitions,\n",
    "    \"type\":\"kinesis\"\n",
    "}\n",
    "kinesis_light_pilot = pilot.streaming.PilotComputeService.create_pilot(pilot_compute_description)\n",
    "kinesis_light_pilot.wait()\n",
    "kinesis_light_details=kinesis_light_pilot.get_details()\n",
    "\n",
    "miniapp=mass.kafka.MiniApp(\n",
    "                           #dask_scheduler=dask_details['master_url'],\n",
    "                           dask_scheduler=None,\n",
    "                           resource_url=kinesis_light_details[\"master_url\"],\n",
    "                           broker_service=\"kinesis\",\n",
    "                           number_parallel_tasks=1,\n",
    "                           number_messages=1,\n",
    "                           number_produces=1,\n",
    "                           number_partitions=number_partitions,\n",
    "                           topic_name=\"light_test8\",\n",
    "                           application_type = \"light\"\n",
    "                          )\n",
    "miniapp.run()"
   ]
  },
  {
   "cell_type": "code",
   "execution_count": null,
   "metadata": {},
   "outputs": [],
   "source": [
    "boto3.setup_default_session(profile_name='dev')\n",
    "kinesis_client = boto3.client('kinesis', region_name='us-east-1')\n",
    "stream_name = kinesis_light_details[\"master_url\"].split(\"/\")[1]\n",
    "print(\"Stream Name: %s\"%stream_name)\n",
    "stream = kinesis_client.describe_stream(StreamName=stream_name)['StreamDescription']\n",
    "\n",
    "messages = []\n",
    "for shard in stream['Shards']:\n",
    "    print(\"### %s - %s\"%(stream_name, shard['ShardId']))\n",
    "    shard_iterator = kinesis_client.get_shard_iterator(\n",
    "        StreamName=stream_name,\n",
    "        ShardId=shard['ShardId'],\n",
    "        ShardIteratorType='AT_TIMESTAMP',  #'TRIM_HORIZON'|'LATEST'\n",
    "        Timestamp=datetime.datetime.utcnow() - datetime.timedelta(minutes=30)\n",
    "    )['ShardIterator']\n",
    "\n",
    "    out = kinesis_client.get_records(ShardIterator=shard_iterator, Limit=10)\n",
    "    if out[\"Records\"]:\n",
    "        for record in out[\"Records\"]:\n",
    "            #data = json.loads()\n",
    "            messages.append(record[\"Data\"])\n",
    "    else:\n",
    "        print(out)\n",
    "        time.sleep(1)\n",
    "print(\"Read %d messages from Kinesis\"%len(messages))"
   ]
  },
  {
   "cell_type": "code",
   "execution_count": null,
   "metadata": {},
   "outputs": [],
   "source": [
    "recon=reconstruct(messages[0])\n",
    "plt.imshow(recon[0, :,:], cmap='Greys_r')\n",
    "plt.show()"
   ]
  },
  {
   "cell_type": "markdown",
   "metadata": {},
   "source": [
    "### Kafka"
   ]
  },
  {
   "cell_type": "code",
   "execution_count": null,
   "metadata": {},
   "outputs": [],
   "source": [
    "%%time\n",
    "topic_name = \"light_test\"\n",
    "miniapp=mass.kafka.MiniApp(\n",
    "                           #dask_scheduler=dask_details['master_url'],\n",
    "                           dask_scheduler=None,\n",
    "                           resource_url=kafka_details[\"master_url\"],\n",
    "                           broker_service=\"kafka\",\n",
    "                           number_parallel_tasks=1,\n",
    "                           number_messages=2,\n",
    "                           number_produces=2,\n",
    "                           number_partitions=number_partitions,\n",
    "                           topic_name=topic_name,\n",
    "                           application_type = \"light\"\n",
    "                          )"
   ]
  },
  {
   "cell_type": "code",
   "execution_count": null,
   "metadata": {},
   "outputs": [],
   "source": [
    "print(\"Read from topic: %s\"%topic_name)\n",
    "client = pykafka.KafkaClient(zookeeper_hosts=kafka_details[\"master_url\"])\n",
    "topic = client.topics[topic_name]\n",
    "consumer = topic.get_simple_consumer(reset_offset_on_start=True,fetch_message_max_bytes=10000000)\n",
    "miniapp.run()\n",
    "message = consumer.consume(block=False)"
   ]
  },
  {
   "cell_type": "code",
   "execution_count": null,
   "metadata": {},
   "outputs": [],
   "source": [
    "type(message)"
   ]
  },
  {
   "cell_type": "code",
   "execution_count": null,
   "metadata": {},
   "outputs": [],
   "source": [
    "%%time\n",
    "recon=reconstruct(message.value)\n",
    "plt.imshow(recon[0, :,:], cmap='Greys_r')\n",
    "plt.show()"
   ]
  },
  {
   "cell_type": "markdown",
   "metadata": {},
   "source": [
    "# Stop Pilots"
   ]
  },
  {
   "cell_type": "code",
   "execution_count": null,
   "metadata": {},
   "outputs": [],
   "source": [
    "kafka_pilot1.cancel()\n",
    "dask_pilot.cancel()\n",
    "kinesis_pilot.cancel()\n",
    "kinesis_light_pilot.cancel()"
   ]
  },
  {
   "cell_type": "markdown",
   "metadata": {},
   "source": [
    "**END**"
   ]
  },
  {
   "cell_type": "markdown",
   "metadata": {},
   "source": [
    "---"
   ]
  },
  {
   "cell_type": "markdown",
   "metadata": {},
   "source": [
    "---"
   ]
  },
  {
   "cell_type": "markdown",
   "metadata": {},
   "source": [
    "***Scratch***"
   ]
  },
  {
   "cell_type": "markdown",
   "metadata": {},
   "source": [
    "For testing serialization"
   ]
  },
  {
   "cell_type": "code",
   "execution_count": null,
   "metadata": {},
   "outputs": [],
   "source": [
    "import pkg_resources, base64\n",
    "import binascii\n",
    "import tempfile\n",
    "\n",
    "data = None\n",
    "with open(\"../mass/tooth.h5\", \"r\") as f:\n",
    "    data = f.read()\n",
    "    \n",
    "data_enc=binascii.hexlify(data)\n",
    "print data_enc[:20]\n",
    "print type(data_enc)\n",
    "\n",
    "tf = tempfile.NamedTemporaryFile(delete=True)\n",
    "#tf = open(\"test.h5\", \"w\")\n",
    "tf.write(binascii.unhexlify(data_enc))\n",
    "tf.flush()\n",
    "proj, flat, dark, theta = dxchange.read_aps_32id(tf.name, sino=(0, 2))"
   ]
  },
  {
   "cell_type": "code",
   "execution_count": null,
   "metadata": {},
   "outputs": [],
   "source": [
    "theta.dtype"
   ]
  },
  {
   "cell_type": "code",
   "execution_count": null,
   "metadata": {},
   "outputs": [],
   "source": [
    "count = 0\n",
    "number_total_points = 0\n",
    "read_bytes = 0\n",
    "for i in range(100):\n",
    "    message = consumer.consume(block=False)\n",
    "    if message is not None:\n",
    "        print \"Message %d, Bytes: %d\"%(count, len(message.value))\n",
    "        reconstruct(message)\n",
    "        read_bytes = read_bytes + len(message.value)\n",
    "        count =  count + 1\n",
    "   \n",
    "        \n",
    "print(\"Total Messages: %d, Read Bytes: %d\"%(count, read_bytes))"
   ]
  },
  {
   "cell_type": "markdown",
   "metadata": {},
   "source": [
    "General Kafka Test"
   ]
  },
  {
   "cell_type": "code",
   "execution_count": null,
   "metadata": {},
   "outputs": [],
   "source": [
    "producer.produce(\"hello\")"
   ]
  },
  {
   "cell_type": "code",
   "execution_count": null,
   "metadata": {},
   "outputs": [],
   "source": [
    "message = consumer.consume(block=False)\n",
    "print message.value"
   ]
  },
  {
   "cell_type": "code",
   "execution_count": null,
   "metadata": {},
   "outputs": [],
   "source": [
    "consumer.partitions"
   ]
  },
  {
   "cell_type": "code",
   "execution_count": null,
   "metadata": {},
   "outputs": [],
   "source": [
    "from distributed import Client\n",
    "dask_distributed_client = Client('tcp://c251-136:8786')\n",
    "\n",
    "#def map_test():\n",
    "#    return 1\n",
    "\n",
    "\n",
    "class DaskTest():\n",
    "    \n",
    "    def __init__(self):\n",
    "        self.dask_distributed_client = Client('tcp://c251-136:8786')\n",
    "\n",
    "\n",
    "    def map_test(self):\n",
    "        return 1\n",
    "    \n",
    "    def run(self):\n",
    "        tasks = []\n",
    "        for block_id in range(3):\n",
    "            tasks.append(self.dask_distributed_client.submit(self.map_test))\n",
    "           \n",
    "        return self.dask_distributed_client.gather(tasks)\n",
    "        "
   ]
  },
  {
   "cell_type": "code",
   "execution_count": null,
   "metadata": {},
   "outputs": [],
   "source": [
    "t = DaskTest()\n",
    "t.run()"
   ]
  },
  {
   "cell_type": "code",
   "execution_count": null,
   "metadata": {},
   "outputs": [],
   "source": []
  },
  {
   "cell_type": "code",
   "execution_count": null,
   "metadata": {},
   "outputs": [],
   "source": [
    "tasks = []\n",
    "for block_id in range(3):\n",
    "    tasks.append(dask_distributed_client.submit(map_test))\n",
    "           \n",
    "dask_distributed_client.gather(tasks)\n",
    "#f = dask_distributed_client.submit(map_test)"
   ]
  }
 ],
 "metadata": {
  "kernelspec": {
   "display_name": "Python 3",
   "language": "python",
   "name": "python3"
  },
  "language_info": {
   "codemirror_mode": {
    "name": "ipython",
    "version": 3
   },
   "file_extension": ".py",
   "mimetype": "text/x-python",
   "name": "python",
   "nbconvert_exporter": "python",
   "pygments_lexer": "ipython3",
   "version": "3.6.6"
  },
  "toc-autonumbering": true,
  "toc-showcode": false,
  "toc-showmarkdowntxt": false,
  "toc-showtags": false
 },
 "nbformat": 4,
 "nbformat_minor": 2
}
