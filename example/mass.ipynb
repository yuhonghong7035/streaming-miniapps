{
 "cells": [
  {
   "cell_type": "markdown",
   "metadata": {},
   "source": [
    "# Howto Mini App Streaming Source (MASS)\n",
    "\n",
    "This notebooks demonstrates the usage data source apps that can be used for the development and characterizing of streaming application."
   ]
  },
  {
   "cell_type": "code",
   "execution_count": 1,
   "metadata": {},
   "outputs": [
    {
     "name": "stderr",
     "output_type": "stream",
     "text": [
      "/home/01131/tg804093/anaconda2/lib/python2.7/site-packages/radical/utils/atfork/stdlib_fixer.py:72: UserWarning: logging handlers already registered.\n",
      "  warnings.warn('logging handlers already registered.')\n"
     ]
    }
   ],
   "source": [
    "# System Libraries\n",
    "import sys, os\n",
    "sys.path.append(\"..\")\n",
    "import pandas as pd\n",
    "\n",
    "## logging\n",
    "import logging\n",
    "logging.basicConfig(level=logging.DEBUG)\n",
    "logging.getLogger().setLevel(logging.ERROR)\n",
    "logging.getLogger(\"py4j\").setLevel(logging.ERROR)\n",
    "logging.getLogger(\"radical.utils\").setLevel(logging.ERROR)\n",
    " \n",
    "# Pilot-Streaming\n",
    "import pilot.streaming"
   ]
  },
  {
   "cell_type": "markdown",
   "metadata": {},
   "source": [
    "# 1. Resource Setup\n",
    "## 1.1 Kafka"
   ]
  },
  {
   "cell_type": "code",
   "execution_count": null,
   "metadata": {},
   "outputs": [
    {
     "name": "stdout",
     "output_type": "stream",
     "text": [
      "**** Job: 60291 State : Pending\n"
     ]
    }
   ],
   "source": [
    "kafka_pilot_description1 = {\n",
    "    \"resource\":\"slurm+ssh://login1.wrangler.tacc.utexas.edu\",\n",
    "    \"working_directory\": os.path.join('/work/01131/tg804093/wrangler/', \"work\"),\n",
    "    \"number_cores\": 48,\n",
    "    \"project\": \"TG-MCB090174\",\n",
    "    \"queue\": \"normal\",\n",
    "    \"walltime\": 159,\n",
    "    \"type\":\"kafka\"\n",
    "}\n",
    "kafka_pilot1 = pilot.streaming.PilotComputeService.create_pilot(kafka_pilot_description1)\n",
    "kafka_pilot1.wait()"
   ]
  },
  {
   "cell_type": "code",
   "execution_count": null,
   "metadata": {},
   "outputs": [],
   "source": [
    "kafka_details = kafka_pilot1.get_details()\n",
    "kafka_details"
   ]
  },
  {
   "cell_type": "code",
   "execution_count": 20,
   "metadata": {},
   "outputs": [],
   "source": [
    "kafka_pilot1.cancel()"
   ]
  },
  {
   "cell_type": "markdown",
   "metadata": {},
   "source": [
    "## 1.2. Dask"
   ]
  },
  {
   "cell_type": "code",
   "execution_count": null,
   "metadata": {},
   "outputs": [],
   "source": [
    "dask_pilot_description = {\n",
    "    \"resource\":\"slurm+ssh://login1.wrangler.tacc.utexas.edu\",\n",
    "    \"working_directory\": os.path.join('/work/01131/tg804093/wrangler/', \"work\"),\n",
    "    \"number_cores\": 48,\n",
    "    \"project\": \"TG-MCB090174\",\n",
    "    \"queue\": \"normal\",\n",
    "    \"walltime\": 159,\n",
    "    \"type\":\"dask\"\n",
    "}\n",
    "dask_pilot = pilot.streaming.PilotComputeService.create_pilot(dask_pilot_description)\n",
    "dask_pilot.wait()"
   ]
  },
  {
   "cell_type": "code",
   "execution_count": null,
   "metadata": {},
   "outputs": [],
   "source": [
    "dask_details = dask_pilot.get_details()\n",
    "dask_details"
   ]
  },
  {
   "cell_type": "code",
   "execution_count": 19,
   "metadata": {},
   "outputs": [],
   "source": [
    "dask_pilot.cancel()"
   ]
  },
  {
   "cell_type": "markdown",
   "metadata": {},
   "source": [
    "# 2. Mini App Test\n",
    "## 2.1 KMeans\n",
    "### 2.1.1 Run App"
   ]
  },
  {
   "cell_type": "code",
   "execution_count": 1,
   "metadata": {},
   "outputs": [
    {
     "name": "stdout",
     "output_type": "stream",
     "text": [
      "Kafka: c251-133:2181, Dask: tcp://129.114.58.135:8786, Number Dask Nodes: 1,  Number Parallel Producers: 2\n"
     ]
    }
   ],
   "source": [
    "# System Libraries\n",
    "import sys, os\n",
    "sys.path.insert(0, \"..\")\n",
    "import pandas as pd\n",
    "import numpy as np\n",
    "import ast\n",
    "import mass.KafkaProducer\n",
    "import pykafka\n",
    "\n",
    "kafka_details= {'master_url': 'c251-133:2181'}\n",
    "dask_details = {'master_url': 'tcp://c251-135:8786'} \n",
    "\n",
    "miniapp=mass.kafka.MiniApp(\n",
    "                            dask_scheduler=dask_details['master_url'],\n",
    "                            #dask_scheduler=None,\n",
    "                            kafka_zk_hosts=kafka_details[\"master_url\"],\n",
    "                            number_parallel_tasks=2,\n",
    "                            number_clusters=10,\n",
    "                            number_points_per_cluster=10000,\n",
    "                            number_points_per_message=1000,\n",
    "                            number_dim=3,\n",
    "                            number_produces=1,\n",
    "                            number_partitions=4,\n",
    "                            topic_name=\"test\"\n",
    "                           )"
   ]
  },
  {
   "cell_type": "code",
   "execution_count": 2,
   "metadata": {},
   "outputs": [
    {
     "name": "stdout",
     "output_type": "stream",
     "text": [
      "/home/01131/tg804093/work/kafka_2.11-1.0.0/bin/kafka-topics.sh --delete --zookeeper c251-133:2181 --topic test\n",
      "/home/01131/tg804093/work/kafka_2.11-1.0.0/bin/kafka-topics.sh --create --zookeeper c251-133:2181 --replication-factor 1 --partitions 4 --topic test\n",
      "/home/01131/tg804093/work/kafka_2.11-1.0.0/bin/kafka-topics.sh --describe --zookeeper c251-133:2181 --topic test\n",
      "Generate Block ID: 0\n",
      "Generate Block ID: 1\n",
      "Waiting for Dask Tasks to complete\n",
      "[{'bytes_per_message': '62303', 'transmission_time': '1.51162', 'block_id': 0, 'points_per_message': 1000, 'data_generation_time': '0.120591', 'runtime': '1.63222', 'number_messages': 50}, {'bytes_per_message': '64305', 'transmission_time': '1.23478', 'block_id': 1, 'points_per_message': 1000, 'data_generation_time': '0.135225', 'runtime': '1.37001', 'number_messages': 50}]\n",
      "End Produce via Dask\n",
      "Number: 0, Number Parallel Tasks: 2, Time to produce 100000 points: 6.8\n"
     ]
    }
   ],
   "source": [
    "miniapp.run()"
   ]
  },
  {
   "cell_type": "markdown",
   "metadata": {},
   "source": [
    "### 2.1.2 Check Kafka Broker\n",
    "\n",
    "Ensure that the correct amount of data was successfully written to Kafka"
   ]
  },
  {
   "cell_type": "code",
   "execution_count": 18,
   "metadata": {},
   "outputs": [],
   "source": [
    "client = pykafka.KafkaClient(zookeeper_hosts=kafka_details[\"master_url\"])\n",
    "topic = client.topics['test']\n",
    "producer = topic.get_sync_producer()\n",
    "consumer = topic.get_simple_consumer()"
   ]
  },
  {
   "cell_type": "code",
   "execution_count": 19,
   "metadata": {},
   "outputs": [
    {
     "data": {
      "text/plain": [
       "2"
      ]
     },
     "execution_count": 19,
     "metadata": {},
     "output_type": "execute_result"
    }
   ],
   "source": [
    "len(client.brokers)"
   ]
  },
  {
   "cell_type": "code",
   "execution_count": 4,
   "metadata": {},
   "outputs": [
    {
     "name": "stdout",
     "output_type": "stream",
     "text": [
      "Total Messages: 100, Total Points: 100000, Number Dimensions: 3\n"
     ]
    }
   ],
   "source": [
    "count = 0\n",
    "number_total_points = 0\n",
    "number_dimensions = 0\n",
    "for i in range(100):\n",
    "    message = consumer.consume(block=False)\n",
    "    if message is not None:\n",
    "        data_np = np.array(ast.literal_eval(message.value))\n",
    "        num_points = data_np.shape[0]\n",
    "        number_dimensions = data_np.shape[1]\n",
    "        count =  count + 1\n",
    "        number_total_points = number_total_points + num_points\n",
    "    #print \"Consumed message: %d, Number Points: %d, Number Dimensions: %d\"%\\\n",
    "    #        (count, num_points, number_dimensions)   \n",
    "        \n",
    "print(\"Total Messages: %d, Total Points: %d, Number Dimensions: %d\"%(count, number_total_points, number_dimensions))"
   ]
  },
  {
   "cell_type": "markdown",
   "metadata": {},
   "source": [
    "## 2.2 Light Source\n",
    "### 2.2.1 Run Mini App"
   ]
  },
  {
   "cell_type": "code",
   "execution_count": 18,
   "metadata": {},
   "outputs": [
    {
     "name": "stdout",
     "output_type": "stream",
     "text": [
      "Kafka: c251-133:2181, Dask: inproc://129.114.58.132/87079/36, Number Dask Nodes: 1,  Number Parallel Producers: 1\n",
      "/home/01131/tg804093/work/kafka_2.11-1.0.0/bin/kafka-topics.sh --delete --zookeeper c251-133:2181 --topic light_test6\n",
      "/home/01131/tg804093/work/kafka_2.11-1.0.0/bin/kafka-topics.sh --create --zookeeper c251-133:2181 --replication-factor 1 --partitions 24 --topic light_test6\n",
      "/home/01131/tg804093/work/kafka_2.11-1.0.0/bin/kafka-topics.sh --describe --zookeeper c251-133:2181 --topic light_test6\n",
      "Waiting for Dask Tasks to complete\n",
      "Access sample data: mass; File: tooth.h5; Size: 1043312\n",
      "[{'bytes_per_message': '1043312', 'transmission_time': '81.74284', 'block_id': 0, 'data_generation_time': '0.041020', 'runtime': '81.78386', 'number_messages': 6400}]\n",
      "End Produce via Dask\n",
      "Number: 0, Number Parallel Tasks: 1, Runtime: 86.8\n",
      "CPU times: user 44.8 s, sys: 12.4 s, total: 57.2 s\n",
      "Wall time: 1min 29s\n"
     ]
    }
   ],
   "source": [
    "%%time\n",
    "import sys, os\n",
    "sys.path.insert(0, \"..\")\n",
    "import pandas as pd\n",
    "import numpy as np\n",
    "import ast\n",
    "import mass.KafkaProducer\n",
    "import pykafka\n",
    "import mass.LightSourceKafkaProducer\n",
    "kafka_details= {'master_url': 'c251-133:2181'}\n",
    "dask_details = {'master_url': 'tcp://c251-135:8786'} \n",
    "\n",
    "miniapp=mass.LightSourceKafkaProducer.MiniApp(\n",
    "                                   #dask_scheduler=dask_details['master_url'],\n",
    "                                   dask_scheduler=None,\n",
    "                                   kafka_zk_hosts=kafka_details[\"master_url\"],\n",
    "                                   number_parallel_tasks=1,\n",
    "                                   number_messages=6400,\n",
    "                                   number_produces=1,\n",
    "                                   number_partitions=24,\n",
    "                                   topic_name=\"light_test6\",\n",
    "                                   application_type = \"light\"\n",
    "                                  )\n",
    "miniapp.run()"
   ]
  },
  {
   "cell_type": "markdown",
   "metadata": {},
   "source": [
    "### 2.2.2 Check Whether Data is correct"
   ]
  },
  {
   "cell_type": "code",
   "execution_count": 7,
   "metadata": {},
   "outputs": [],
   "source": [
    "client = pykafka.KafkaClient(zookeeper_hosts=kafka_details[\"master_url\"])\n",
    "topic = client.topics['light_test6']\n",
    "consumer = topic.get_simple_consumer()"
   ]
  },
  {
   "cell_type": "code",
   "execution_count": 8,
   "metadata": {},
   "outputs": [
    {
     "name": "stdout",
     "output_type": "stream",
     "text": [
      "Message 0, Bytes: 1043312\n",
      "Message 1, Bytes: 1043312\n",
      "Message 2, Bytes: 1043312\n",
      "Message 3, Bytes: 1043312\n",
      "Total Messages: 4, Read Bytes: 4173248\n"
     ]
    },
    {
     "name": "stderr",
     "output_type": "stream",
     "text": [
      "No handlers could be found for logger \"kazoo.client\"\n"
     ]
    }
   ],
   "source": [
    "count = 0\n",
    "number_total_points = 0\n",
    "read_bytes = 0\n",
    "for i in range(100):\n",
    "    message = consumer.consume(block=False)\n",
    "    if message is not None:\n",
    "        print \"Message %d, Bytes: %d\"%(count, len(message.value))\n",
    "        read_bytes = read_bytes + len(message.value)\n",
    "        count =  count + 1\n",
    "   \n",
    "        \n",
    "print(\"Total Messages: %d, Read Bytes: %d\"%(count, read_bytes))"
   ]
  },
  {
   "cell_type": "markdown",
   "metadata": {},
   "source": [
    "# Scratch Pad"
   ]
  },
  {
   "cell_type": "markdown",
   "metadata": {},
   "source": [
    "General Kafka Test"
   ]
  },
  {
   "cell_type": "code",
   "execution_count": 8,
   "metadata": {},
   "outputs": [
    {
     "data": {
      "text/plain": [
       "<pykafka.protocol.Message at 0x2b267f61db50>"
      ]
     },
     "execution_count": 8,
     "metadata": {},
     "output_type": "execute_result"
    }
   ],
   "source": [
    "producer.produce(\"hello\")"
   ]
  },
  {
   "cell_type": "code",
   "execution_count": 9,
   "metadata": {},
   "outputs": [
    {
     "name": "stdout",
     "output_type": "stream",
     "text": [
      "hello\n"
     ]
    }
   ],
   "source": [
    "message = consumer.consume(block=False)\n",
    "print message.value"
   ]
  },
  {
   "cell_type": "code",
   "execution_count": 11,
   "metadata": {},
   "outputs": [
    {
     "data": {
      "text/plain": [
       "{0: <pykafka.partition.Partition at 0x2b267f6b4710 (id=0)>}"
      ]
     },
     "execution_count": 11,
     "metadata": {},
     "output_type": "execute_result"
    }
   ],
   "source": [
    "consumer.partitions"
   ]
  },
  {
   "cell_type": "code",
   "execution_count": 12,
   "metadata": {},
   "outputs": [],
   "source": [
    "from distributed import Client\n",
    "dask_distributed_client = Client('tcp://c251-136:8786')\n",
    "\n",
    "#def map_test():\n",
    "#    return 1\n",
    "\n",
    "\n",
    "class DaskTest():\n",
    "    \n",
    "    def __init__(self):\n",
    "        self.dask_distributed_client = Client('tcp://c251-136:8786')\n",
    "\n",
    "\n",
    "    def map_test(self):\n",
    "        return 1\n",
    "    \n",
    "    def run(self):\n",
    "        tasks = []\n",
    "        for block_id in range(3):\n",
    "            tasks.append(self.dask_distributed_client.submit(self.map_test))\n",
    "           \n",
    "        return self.dask_distributed_client.gather(tasks)\n",
    "        "
   ]
  },
  {
   "cell_type": "code",
   "execution_count": null,
   "metadata": {},
   "outputs": [],
   "source": [
    "t = DaskTest()\n",
    "t.run()"
   ]
  },
  {
   "cell_type": "code",
   "execution_count": null,
   "metadata": {},
   "outputs": [],
   "source": []
  },
  {
   "cell_type": "code",
   "execution_count": 10,
   "metadata": {},
   "outputs": [
    {
     "data": {
      "text/plain": [
       "[1, 1, 1]"
      ]
     },
     "execution_count": 10,
     "metadata": {},
     "output_type": "execute_result"
    }
   ],
   "source": [
    "tasks = []\n",
    "for block_id in range(3):\n",
    "    tasks.append(dask_distributed_client.submit(map_test))\n",
    "           \n",
    "dask_distributed_client.gather(tasks)\n",
    "#f = dask_distributed_client.submit(map_test)"
   ]
  }
 ],
 "metadata": {
  "kernelspec": {
   "display_name": "Python 2",
   "language": "python",
   "name": "python2"
  },
  "language_info": {
   "codemirror_mode": {
    "name": "ipython",
    "version": 2
   },
   "file_extension": ".py",
   "mimetype": "text/x-python",
   "name": "python",
   "nbconvert_exporter": "python",
   "pygments_lexer": "ipython2",
   "version": "2.7.14"
  }
 },
 "nbformat": 4,
 "nbformat_minor": 2
}
