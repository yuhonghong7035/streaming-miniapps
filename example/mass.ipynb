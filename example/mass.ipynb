{
 "cells": [
  {
   "cell_type": "markdown",
   "metadata": {},
   "source": [
    "# MASS: Howto Mini App Streaming Source (MASS)\n",
    "\n",
    "This notebooks demonstrates the usage data source apps that can be used for the development and characterizing of streaming application."
   ]
  },
  {
   "cell_type": "code",
   "execution_count": 7,
   "metadata": {
    "collapsed": true
   },
   "outputs": [],
   "source": [
    "%%capture\n",
    "# System Libraries\n",
    "import sys, os\n",
    "sys.path.append(\"..\")\n",
    "import pandas as pd\n",
    "\n",
    "## logging\n",
    "import logging\n",
    "logging.basicConfig(level=logging.DEBUG)\n",
    "logging.getLogger().setLevel(logging.ERROR)\n",
    "logging.getLogger(\"py4j\").setLevel(logging.ERROR)\n",
    "logging.getLogger(\"radical.utils\").setLevel(logging.ERROR)\n",
    " \n",
    "# Pilot-Streaming\n",
    "import pilot.streaming"
   ]
  },
  {
   "cell_type": "markdown",
   "metadata": {},
   "source": [
    "# 1. Resource Setup\n",
    "## 1.1 Kafka"
   ]
  },
  {
   "cell_type": "code",
   "execution_count": 8,
   "metadata": {},
   "outputs": [
    {
     "name": "stderr",
     "output_type": "stream",
     "text": [
      "2018-05-18 18:06:54,389: radical.saga.cpi    : MainProcess                     : MainThread     : ERROR   : NoSuccess: Couldn't get job id from submitted job! sbatch output:\n",
      "\n",
      "---------------------------------------------------------------\n",
      "          Welcome to the Wrangler Supercomputer                 \n",
      "---------------------------------------------------------------\n",
      "\n",
      "--> Submission error: please define total node count with the \"-N\" option\n",
      "removed ‘tmp_tT1Um7.slurm’\n",
      "\n"
     ]
    },
    {
     "name": "stdout",
     "output_type": "stream",
     "text": [
      "An error occurred: Couldn't get job id from submitted job! sbatch output:\n",
      "\n",
      "---------------------------------------------------------------\n",
      "          Welcome to the Wrangler Supercomputer                 \n",
      "---------------------------------------------------------------\n",
      "\n",
      "--> Submission error: please define total node count with the \"-N\" option\n",
      "removed ‘tmp_tT1Um7.slurm’\n",
      " (/home/03662/tg829618/anaconda2/lib/python2.7/site-packages/saga/adaptors/slurm/slurm_job.py +540 (_job_run)  :  raise saga.NoSuccess._log(self._logger,)\n"
     ]
    },
    {
     "ename": "KeyboardInterrupt",
     "evalue": "",
     "output_type": "error",
     "traceback": [
      "\u001b[0;31m---------------------------------------------------------------------------\u001b[0m",
      "\u001b[0;31mKeyboardInterrupt\u001b[0m                         Traceback (most recent call last)",
      "\u001b[0;32m<ipython-input-8-94609423ee57>\u001b[0m in \u001b[0;36m<module>\u001b[0;34m()\u001b[0m\n\u001b[1;32m      8\u001b[0m     \u001b[0;34m\"type\"\u001b[0m\u001b[0;34m:\u001b[0m\u001b[0;34m\"kafka\"\u001b[0m\u001b[0;34m\u001b[0m\u001b[0m\n\u001b[1;32m      9\u001b[0m }\n\u001b[0;32m---> 10\u001b[0;31m \u001b[0mkafka_pilot1\u001b[0m \u001b[0;34m=\u001b[0m \u001b[0mpilot\u001b[0m\u001b[0;34m.\u001b[0m\u001b[0mstreaming\u001b[0m\u001b[0;34m.\u001b[0m\u001b[0mPilotComputeService\u001b[0m\u001b[0;34m.\u001b[0m\u001b[0mcreate_pilot\u001b[0m\u001b[0;34m(\u001b[0m\u001b[0mkafka_pilot_description1\u001b[0m\u001b[0;34m)\u001b[0m\u001b[0;34m\u001b[0m\u001b[0m\n\u001b[0m\u001b[1;32m     11\u001b[0m \u001b[0mkafka_pilot1\u001b[0m\u001b[0;34m.\u001b[0m\u001b[0mwait\u001b[0m\u001b[0;34m(\u001b[0m\u001b[0;34m)\u001b[0m\u001b[0;34m\u001b[0m\u001b[0m\n",
      "\u001b[0;32m/home/03662/tg829618/anaconda2/lib/python2.7/site-packages/pilot/streaming.pyc\u001b[0m in \u001b[0;36mcreate_pilot\u001b[0;34m(cls, pilotcompute_description)\u001b[0m\n\u001b[1;32m    160\u001b[0m             \u001b[0;32mreturn\u001b[0m \u001b[0mp\u001b[0m\u001b[0;34m\u001b[0m\u001b[0m\n\u001b[1;32m    161\u001b[0m         \u001b[0;32melse\u001b[0m\u001b[0;34m:\u001b[0m\u001b[0;34m\u001b[0m\u001b[0m\n\u001b[0;32m--> 162\u001b[0;31m             \u001b[0mp\u001b[0m \u001b[0;34m=\u001b[0m \u001b[0mcls\u001b[0m\u001b[0;34m.\u001b[0m\u001b[0m__start_cluster\u001b[0m\u001b[0;34m(\u001b[0m\u001b[0mpilotcompute_description\u001b[0m\u001b[0;34m)\u001b[0m\u001b[0;34m\u001b[0m\u001b[0m\n\u001b[0m\u001b[1;32m    163\u001b[0m             \u001b[0;32mreturn\u001b[0m \u001b[0mp\u001b[0m\u001b[0;34m\u001b[0m\u001b[0m\n\u001b[1;32m    164\u001b[0m \u001b[0;34m\u001b[0m\u001b[0m\n",
      "\u001b[0;32m/home/03662/tg829618/anaconda2/lib/python2.7/site-packages/pilot/streaming.pyc\u001b[0m in \u001b[0;36m__start_cluster\u001b[0;34m(self, pilotcompute_description)\u001b[0m\n\u001b[1;32m    253\u001b[0m         )\n\u001b[1;32m    254\u001b[0m \u001b[0;34m\u001b[0m\u001b[0m\n\u001b[0;32m--> 255\u001b[0;31m         \u001b[0mdetails\u001b[0m \u001b[0;34m=\u001b[0m \u001b[0mmanager\u001b[0m\u001b[0;34m.\u001b[0m\u001b[0mget_config_data\u001b[0m\u001b[0;34m(\u001b[0m\u001b[0;34m)\u001b[0m\u001b[0;34m\u001b[0m\u001b[0m\n\u001b[0m\u001b[1;32m    256\u001b[0m         \u001b[0mp\u001b[0m \u001b[0;34m=\u001b[0m \u001b[0mPilotCompute\u001b[0m\u001b[0;34m(\u001b[0m\u001b[0mbatch_job\u001b[0m\u001b[0;34m,\u001b[0m \u001b[0mdetails\u001b[0m\u001b[0;34m,\u001b[0m \u001b[0mcluster_manager\u001b[0m\u001b[0;34m=\u001b[0m\u001b[0mmanager\u001b[0m\u001b[0;34m)\u001b[0m\u001b[0;34m\u001b[0m\u001b[0m\n\u001b[1;32m    257\u001b[0m         \u001b[0;32mreturn\u001b[0m \u001b[0mp\u001b[0m\u001b[0;34m\u001b[0m\u001b[0m\n",
      "\u001b[0;32m/home/03662/tg829618/anaconda2/lib/python2.7/site-packages/pilot/plugins/kafka/cluster.pyc\u001b[0m in \u001b[0;36mget_config_data\u001b[0;34m(self)\u001b[0m\n\u001b[1;32m     99\u001b[0m \u001b[0;34m\u001b[0m\u001b[0m\n\u001b[1;32m    100\u001b[0m     \u001b[0;32mdef\u001b[0m \u001b[0mget_config_data\u001b[0m\u001b[0;34m(\u001b[0m\u001b[0mself\u001b[0m\u001b[0;34m)\u001b[0m\u001b[0;34m:\u001b[0m\u001b[0;34m\u001b[0m\u001b[0m\n\u001b[0;32m--> 101\u001b[0;31m         \u001b[0mself\u001b[0m\u001b[0;34m.\u001b[0m\u001b[0mwait\u001b[0m\u001b[0;34m(\u001b[0m\u001b[0;34m)\u001b[0m\u001b[0;34m\u001b[0m\u001b[0m\n\u001b[0m\u001b[1;32m    102\u001b[0m         \u001b[0mconf\u001b[0m \u001b[0;34m=\u001b[0m \u001b[0mos\u001b[0m\u001b[0;34m.\u001b[0m\u001b[0mpath\u001b[0m\u001b[0;34m.\u001b[0m\u001b[0mjoin\u001b[0m\u001b[0;34m(\u001b[0m\u001b[0mself\u001b[0m\u001b[0;34m.\u001b[0m\u001b[0mworking_directory\u001b[0m\u001b[0;34m,\u001b[0m \u001b[0;34m\"config\"\u001b[0m\u001b[0;34m)\u001b[0m\u001b[0;34m\u001b[0m\u001b[0m\n\u001b[1;32m    103\u001b[0m         \u001b[0;32mprint\u001b[0m \u001b[0;34m\"look for configs in: \"\u001b[0m \u001b[0;34m+\u001b[0m \u001b[0mconf\u001b[0m\u001b[0;34m\u001b[0m\u001b[0m\n",
      "\u001b[0;32m/home/03662/tg829618/anaconda2/lib/python2.7/site-packages/pilot/plugins/kafka/cluster.pyc\u001b[0m in \u001b[0;36mwait\u001b[0;34m(self)\u001b[0m\n\u001b[1;32m     88\u001b[0m             \u001b[0;32melif\u001b[0m \u001b[0mstate\u001b[0m \u001b[0;34m==\u001b[0m \u001b[0;34m\"Failed\"\u001b[0m\u001b[0;34m:\u001b[0m\u001b[0;34m\u001b[0m\u001b[0m\n\u001b[1;32m     89\u001b[0m                 \u001b[0;32mbreak\u001b[0m\u001b[0;34m\u001b[0m\u001b[0m\n\u001b[0;32m---> 90\u001b[0;31m             \u001b[0mtime\u001b[0m\u001b[0;34m.\u001b[0m\u001b[0msleep\u001b[0m\u001b[0;34m(\u001b[0m\u001b[0;36m3\u001b[0m\u001b[0;34m)\u001b[0m\u001b[0;34m\u001b[0m\u001b[0m\n\u001b[0m\u001b[1;32m     91\u001b[0m \u001b[0;34m\u001b[0m\u001b[0m\n\u001b[1;32m     92\u001b[0m \u001b[0;34m\u001b[0m\u001b[0m\n",
      "\u001b[0;31mKeyboardInterrupt\u001b[0m: "
     ]
    }
   ],
   "source": [
    "kafka_pilot_description1 = {\n",
    "    \"resource\":\"slurm+ssh://login1.wrangler.tacc.utexas.edu\",\n",
    "    \"working_directory\": os.path.join('/work/03662/tg829618/wrangler/', \"work\"),\n",
    "    \"number_cores\": 48,\n",
    "    \"project\": \"TG-MCB090174\",\n",
    "    \"queue\": \"normal\",\n",
    "    \"walltime\": 120,\n",
    "    \"type\":\"kafka\"\n",
    "}\n",
    "kafka_pilot1 = pilot.streaming.PilotComputeService.create_pilot(kafka_pilot_description1)\n",
    "kafka_pilot1.wait()"
   ]
  },
  {
   "cell_type": "code",
   "execution_count": 8,
   "metadata": {},
   "outputs": [
    {
     "name": "stdout",
     "output_type": "stream",
     "text": [
      "look for configs in: /work/03662/tg829618/wrangler/work/kafka-2afde970-5089-11e8-a742-549f35098908/config\n",
      "['broker-1', 'broker-0']\n",
      "Kafka Config: /work/03662/tg829618/wrangler/work/kafka-2afde970-5089-11e8-a742-549f35098908/config (Sat May  5 12:24:40 2018)\n",
      "Kafka Config: /work/03662/tg829618/wrangler/work/kafka-2afde970-5089-11e8-a742-549f35098908/config (Sat May  5 12:24:40 2018)\n",
      "{'zookeeper.connection.timeout.ms': '6000', 'broker.id': '0', 'listeners': 'PLAINTEXT://c251-102:9092', 'zookeeper.connect': 'c251-102:2181'}\n"
     ]
    },
    {
     "data": {
      "text/plain": [
       "{'details': {'broker.id': '0',\n",
       "  'listeners': 'PLAINTEXT://c251-102:9092',\n",
       "  'zookeeper.connect': 'c251-102:2181',\n",
       "  'zookeeper.connection.timeout.ms': '6000'},\n",
       " 'master_url': 'c251-102:2181'}"
      ]
     },
     "execution_count": 8,
     "metadata": {},
     "output_type": "execute_result"
    }
   ],
   "source": [
    "kafka_details = kafka_pilot1.get_details()\n",
    "kafka_details"
   ]
  },
  {
   "cell_type": "code",
   "execution_count": 5,
   "metadata": {
    "collapsed": true
   },
   "outputs": [],
   "source": [
    "kafka_pilot1.cancel()"
   ]
  },
  {
   "cell_type": "code",
   "execution_count": 18,
   "metadata": {},
   "outputs": [
    {
     "name": "stdout",
     "output_type": "stream",
     "text": [
      "**** Job: 66899 State : Running\n",
      "look for configs in: /work/03662/tg829618/wrangler/work/kafka-8fd45a3c-5084-11e8-a170-549f35098908/config\n",
      "['broker-0']\n",
      "Kafka Config: /work/03662/tg829618/wrangler/work/kafka-8fd45a3c-5084-11e8-a170-549f35098908/config (Sat May  5 11:51:43 2018)\n",
      "{'zookeeper.connection.timeout.ms': '6000', 'broker.id': '0', 'listeners': 'PLAINTEXT://c251-137:9092', 'zookeeper.connect': 'c251-137:2181'}\n"
     ]
    }
   ],
   "source": [
    "kafka_pilot_description2 = {\n",
    "    \"resource\":\"slurm+ssh://login1.wrangler.tacc.utexas.edu\",\n",
    "    \"working_directory\": os.path.join('/work/03662/tg829618/wrangler/', \"work\"),\n",
    "    \"number_cores\": 48,\n",
    "    \"project\": \"TG-MCB090174\",\n",
    "    \"queue\": \"normal\",\n",
    "    \"walltime\": 100,\n",
    "    \"type\":\"kafka\"\n",
    "}\n",
    "kafka_pilot2 = pilot.streaming.PilotComputeService.create_pilot(kafka_pilot_description1)\n",
    "kafka_pilot2.wait()"
   ]
  },
  {
   "cell_type": "markdown",
   "metadata": {},
   "source": [
    "## 1.2. Dask"
   ]
  },
  {
   "cell_type": "code",
   "execution_count": 9,
   "metadata": {},
   "outputs": [
    {
     "name": "stdout",
     "output_type": "stream",
     "text": [
      "**** Job: 66905 State : Running\n"
     ]
    }
   ],
   "source": [
    "dask_pilot_description = {\n",
    "    \"resource\":\"slurm+ssh://login1.wrangler.tacc.utexas.edu\",\n",
    "    \"working_directory\": os.path.join('/work/03662/tg829618/wrangler/', \"work\"),\n",
    "    \"number_cores\": 48,\n",
    "    \"project\": \"TG-MCB090174\",\n",
    "    \"queue\": \"normal\",\n",
    "    \"walltime\": 100,\n",
    "    \"type\":\"dask\"\n",
    "}\n",
    "dask_pilot = pilot.streaming.PilotComputeService.create_pilot(dask_pilot_description)\n",
    "dask_pilot.wait()"
   ]
  },
  {
   "cell_type": "code",
   "execution_count": null,
   "metadata": {},
   "outputs": [],
   "source": [
    "dask_details = dask_pilot.get_details()\n",
    "dask_details"
   ]
  },
  {
   "cell_type": "code",
   "execution_count": 8,
   "metadata": {
    "collapsed": true
   },
   "outputs": [],
   "source": [
    "dask_pilot.cancel()"
   ]
  },
  {
   "cell_type": "markdown",
   "metadata": {},
   "source": [
    "# 2. Mini App Test\n",
    "## 2.1 KMeans\n",
    "### 2.1.1 Run App"
   ]
  },
  {
   "cell_type": "code",
   "execution_count": 4,
   "metadata": {},
   "outputs": [
    {
     "name": "stdout",
     "output_type": "stream",
     "text": [
      "Kafka: c251-129:2181, Dask: inproc://129.114.58.135/64007/1, Number Dask Nodes: 1,  Number Parallel Producers: 2\n"
     ]
    }
   ],
   "source": [
    "# System Libraries\n",
    "import sys, os\n",
    "sys.path.insert(0, \"..\")\n",
    "import pandas as pd\n",
    "import numpy as np\n",
    "import ast\n",
    "import mass.kafka\n",
    "import pykafka\n",
    "\n",
    "kafka_details= {'master_url': 'c251-129:2181'}\n",
    "dask_details = {'master_url': 'tcp://c251-136:8786'} \n",
    "\n",
    "miniapp=mass.kafka.MiniApp(\n",
    "                            #dask_scheduler=dask_details['master_url'],\n",
    "                            dask_scheduler=None,\n",
    "                            kafka_zk_hosts=kafka_details[\"master_url\"],\n",
    "                            number_parallel_tasks=2,\n",
    "                            number_clusters=10,\n",
    "                            number_points_per_cluster=10000,\n",
    "                            number_points_per_message=1000,\n",
    "                            number_messages=1,\n",
    "                            number_dim=3,\n",
    "                            number_produces=1,\n",
    "                            number_partitions=4,\n",
    "                            topic_name=\"test\",\n",
    "                            application_type=\"kmeans\"\n",
    "                           )"
   ]
  },
  {
   "cell_type": "code",
   "execution_count": 5,
   "metadata": {},
   "outputs": [
    {
     "name": "stdout",
     "output_type": "stream",
     "text": [
      "/home/01131/tg804093/work/kafka_2.11-1.0.0/bin/kafka-topics.sh --delete --zookeeper c251-129:2181 --topic test\n",
      "/home/01131/tg804093/work/kafka_2.11-1.0.0/bin/kafka-topics.sh --create --zookeeper c251-129:2181 --replication-factor 1 --partitions 4 --topic test\n",
      "/home/01131/tg804093/work/kafka_2.11-1.0.0/bin/kafka-topics.sh --describe --zookeeper c251-129:2181 --topic test\n",
      "Generate Block ID: 0\n",
      "Generate Block ID: 1\n",
      "Waiting for Dask Tasks to complete\n",
      "Zookeeper: c251-129:2181, Block Id: 0, Num Cluster: 100Zookeeper: c251-129:2181, Block Id: 1, Num Cluster: 100\n",
      "\n",
      "Points Array Shape: (50000, 3), Number Batches: 50.0\n",
      "Points Array Shape: (50000, 3), Number Batches: 50.0\n",
      "[{'bytes_per_message': '64833', 'transmission_time': '1.35728', 'block_id': 0, 'points_per_message': 1000, 'data_generation_time': '0.113302', 'runtime': '1.47059', 'number_messages': 50}, {'bytes_per_message': '65181', 'transmission_time': '1.28103', 'block_id': 1, 'points_per_message': 1000, 'data_generation_time': '0.087901', 'runtime': '1.36893', 'number_messages': 50}]\n",
      "End Produce via Dask\n",
      "Number: 0, Number Parallel Tasks: 2, Runtime: 6.5\n"
     ]
    }
   ],
   "source": [
    "miniapp.run()"
   ]
  },
  {
   "cell_type": "markdown",
   "metadata": {},
   "source": [
    "### 2.1.2 Check Kafka Broker\n",
    "\n",
    "Ensure that the correct amount of data was successfully written to Kafka"
   ]
  },
  {
   "cell_type": "code",
   "execution_count": 32,
   "metadata": {
    "collapsed": true
   },
   "outputs": [],
   "source": [
    "client = pykafka.KafkaClient(zookeeper_hosts=kafka_details[\"master_url\"])\n",
    "topic = client.topics['test']\n",
    "producer = topic.get_sync_producer()\n",
    "consumer = topic.get_simple_consumer()"
   ]
  },
  {
   "cell_type": "code",
   "execution_count": 33,
   "metadata": {},
   "outputs": [
    {
     "data": {
      "text/plain": [
       "1"
      ]
     },
     "execution_count": 33,
     "metadata": {},
     "output_type": "execute_result"
    }
   ],
   "source": [
    "len(client.brokers)"
   ]
  },
  {
   "cell_type": "code",
   "execution_count": 10,
   "metadata": {},
   "outputs": [
    {
     "name": "stdout",
     "output_type": "stream",
     "text": [
      "Total Messages: 100, Total Points: 100000, Number Dimensions: 3\n"
     ]
    }
   ],
   "source": [
    "count = 0\n",
    "number_total_points = 0\n",
    "number_dimensions = 0\n",
    "for i in range(100):\n",
    "    message = consumer.consume(block=False)\n",
    "    if message is not None:\n",
    "        data_np = np.array(ast.literal_eval(message.value))\n",
    "        num_points = data_np.shape[0]\n",
    "        number_dimensions = data_np.shape[1]\n",
    "        count =  count + 1\n",
    "        number_total_points = number_total_points + num_points\n",
    "    #print \"Consumed message: %d, Number Points: %d, Number Dimensions: %d\"%\\\n",
    "    #        (count, num_points, number_dimensions)   \n",
    "        \n",
    "print(\"Total Messages: %d, Total Points: %d, Number Dimensions: %d\"%(count, number_total_points, number_dimensions))"
   ]
  },
  {
   "cell_type": "markdown",
   "metadata": {},
   "source": [
    "## 2.2 Light Source\n",
    "### 2.2.1 Run Mini App"
   ]
  },
  {
   "cell_type": "code",
   "execution_count": 12,
   "metadata": {},
   "outputs": [
    {
     "name": "stdout",
     "output_type": "stream",
     "text": [
      "50\n",
      "Kafka: c251-134:2181, Dask: inproc://129.114.58.133/59776/7, Number Dask Nodes: 1,  Number Parallel Producers: 8\n",
      "CPU times: user 21.2 ms, sys: 15.5 ms, total: 36.7 ms\n",
      "Wall time: 56.3 ms\n"
     ]
    }
   ],
   "source": [
    "%%time\n",
    "import sys, os\n",
    "sys.path.insert(0, \"..\")\n",
    "import pandas as pd\n",
    "import numpy as np\n",
    "import ast\n",
    "import mass.kafka\n",
    "import pykafka\n",
    "\n",
    "#kafka_details= {'master_url': 'c251-134:2181'}\n",
    "#dask_details = {'master_url': 'tcp://c251-129:8786'} \n",
    "\n",
    "miniapp=mass.kafka.MiniApp(\n",
    "                                   #dask_scheduler=dask_details['master_url'],\n",
    "                                   dask_scheduler=None,\n",
    "                                   kafka_zk_hosts=kafka_details[\"master_url\"],\n",
    "                                   number_parallel_tasks=8,\n",
    "                                   number_messages= 50,  # 3 rec/ minute / node\n",
    "                                   number_produces= 1,\n",
    "                                   number_partitions=12,\n",
    "                                   topic_name=\"light_test7\",\n",
    "                                   application_type = \"light\"\n",
    "                                  )\n",
    "#miniapp.run()"
   ]
  },
  {
   "cell_type": "code",
   "execution_count": 13,
   "metadata": {},
   "outputs": [
    {
     "name": "stdout",
     "output_type": "stream",
     "text": [
      "/home/01131/tg804093/work/kafka_2.11-1.0.0/bin/kafka-topics.sh --delete --zookeeper c251-134:2181 --topic light_test7\n",
      "/home/01131/tg804093/work/kafka_2.11-1.0.0/bin/kafka-topics.sh --create --zookeeper c251-134:2181 --replication-factor 1 --partitions 12 --topic light_test7\n",
      "/home/01131/tg804093/work/kafka_2.11-1.0.0/bin/kafka-topics.sh --describe --zookeeper c251-134:2181 --topic light_test7\n",
      "Waiting for Dask Tasks to complete\n",
      "Access sample data: mass; File: tooth.h5; Size: 1043312\n",
      "Encoded Type: <type 'str'> Len: 2086624\n",
      "Access sample data: mass; File: tooth.h5; Size: 1043312\n",
      "Encoded Type: <type 'str'> Len: 2086624\n",
      "Access sample data: mass; File: tooth.h5; Size: 1043312\n",
      " Encoded Type: <type 'str'> Len: 2086624Access sample data: mass; File: tooth.h5; Size: 1043312\n",
      "\n",
      "Encoded Type: <type 'str'> Len: 2086624\n",
      "Access sample data: mass; File: tooth.h5; Size: 1043312\n",
      "Access sample data: mass; File: tooth.h5; Size: 1043312Encoded Type: <type 'str'> Len: 2086624\n",
      "Access sample data: mass; File: tooth.h5; Size: 1043312Access sample data: mass; File: tooth.h5; Size: 1043312\n",
      "Encoded Type: <type 'str'> Len: 2086624\n",
      "\n",
      "\n",
      "Encoded Type: <type 'str'> Len: 2086624Encoded Type: <type 'str'> Len: 2086624\n",
      "\n",
      "[{'transmission_time': '0.32553', 'block_id': 0, 'bytes_per_message_bin': '1043312', 'data_generation_time': '0.147430', 'bytes_per_message_enc': '2086624', 'runtime': '0.47295', 'number_messages': 6}, {'transmission_time': '0.55527', 'block_id': 1, 'bytes_per_message_bin': '1043312', 'data_generation_time': '0.097431', 'bytes_per_message_enc': '2086624', 'runtime': '0.65270', 'number_messages': 6}, {'transmission_time': '0.41615', 'block_id': 2, 'bytes_per_message_bin': '1043312', 'data_generation_time': '0.109897', 'bytes_per_message_enc': '2086624', 'runtime': '0.52604', 'number_messages': 6}, {'transmission_time': '0.33037', 'block_id': 3, 'bytes_per_message_bin': '1043312', 'data_generation_time': '0.200344', 'bytes_per_message_enc': '2086624', 'runtime': '0.53072', 'number_messages': 6}, {'transmission_time': '0.47394', 'block_id': 4, 'bytes_per_message_bin': '1043312', 'data_generation_time': '0.182090', 'bytes_per_message_enc': '2086624', 'runtime': '0.65603', 'number_messages': 6}, {'transmission_time': '0.36383', 'block_id': 5, 'bytes_per_message_bin': '1043312', 'data_generation_time': '0.217588', 'bytes_per_message_enc': '2086624', 'runtime': '0.58142', 'number_messages': 6}, {'transmission_time': '0.32085', 'block_id': 6, 'bytes_per_message_bin': '1043312', 'data_generation_time': '0.242116', 'bytes_per_message_enc': '2086624', 'runtime': '0.56297', 'number_messages': 6}, {'transmission_time': '0.30581', 'block_id': 7, 'bytes_per_message_bin': '1043312', 'data_generation_time': '0.144464', 'bytes_per_message_enc': '2086624', 'runtime': '0.45027', 'number_messages': 6}]\n",
      "End Produce via Dask\n",
      "Number: 0, Number Parallel Tasks: 8, Runtime: 5.7\n"
     ]
    }
   ],
   "source": [
    "miniapp.run()"
   ]
  },
  {
   "cell_type": "markdown",
   "metadata": {},
   "source": [
    "### 2.2.2 Check if Light Source Data is correct"
   ]
  },
  {
   "cell_type": "code",
   "execution_count": 7,
   "metadata": {
    "collapsed": true
   },
   "outputs": [],
   "source": [
    "%matplotlib inline\n",
    "import os, sys, time\n",
    "import tomopy\n",
    "import pandas as pd\n",
    "import dxchange\n",
    "import tempfile\n",
    "import pykafka\n",
    "import base64\n",
    "import io\n",
    "import binascii"
   ]
  },
  {
   "cell_type": "code",
   "execution_count": 44,
   "metadata": {
    "collapsed": true
   },
   "outputs": [],
   "source": [
    "def reconstruct(message):\n",
    "    start = 0\n",
    "    end = 2\n",
    "    msg_bin = base64.urlsafe_b64decode(message.value)\n",
    "    #print len(msg_bin)\n",
    "    tf = tempfile.NamedTemporaryFile(delete=True)\n",
    "    tf = open(\"test.h5\", \"w\")\n",
    "    tf.write(msg_bin)\n",
    "    tf.flush()\n",
    "    proj, flat, dark, theta = dxchange.read_aps_32id(tf.name, sino=(start, end))\n",
    "    theta = tomopy.angles(proj.shape[0])\n",
    "    proj = tomopy.normalize(proj, flat, dark)\n",
    "    rot_center = tomopy.find_center(proj, theta, init=290, ind=0, tol=0.5)\n",
    "    proj = tomopy.minus_log(proj)\n",
    "    recon = tomopy.recon(proj, theta, center=rot_center, algorithm='gridrec', ncore=5)\n",
    "    recon = tomopy.circ_mask(recon, axis=0, ratio=0.95)\n",
    "    tf.close()"
   ]
  },
  {
   "cell_type": "code",
   "execution_count": 45,
   "metadata": {
    "collapsed": true
   },
   "outputs": [],
   "source": [
    "def reconstruct(message):\n",
    "    global reconstruction_algorithm\n",
    "    start = 0\n",
    "    end = 2\n",
    "    #msg_bin = base64.b64decode(message)\n",
    "    msg_bin = binascii.unhexlify(message)\n",
    "    tf = tempfile.NamedTemporaryFile(delete=True)\n",
    "    tf.write(msg_bin)\n",
    "    tf.flush()\n",
    "    proj, flat, dark, theta = dxchange.read_aps_32id(tf.name, sino=(start, end))\n",
    "    theta = tomopy.angles(proj.shape[0])\n",
    "    proj = tomopy.normalize(proj, flat, dark)\n",
    "    rot_center = tomopy.find_center(proj, theta, init=290, ind=0, tol=0.5)\n",
    "    proj = tomopy.minus_log(proj)\n",
    "    recon = tomopy.recon(proj, theta, center=rot_center, algorithm='gridrec', ncore=5)\n",
    "    recon = tomopy.circ_mask(recon, axis=0, ratio=0.95)\n",
    "    #plt.imsave(\"/home/01131/tg804093/notebooks/streaming-miniapps/recon.png\", recon[0, :,:], cmap='Greys_r')\n",
    "    #plt.savefig()\n",
    "    tf.close()\n",
    "    return True"
   ]
  },
  {
   "cell_type": "markdown",
   "metadata": {},
   "source": [
    "## 2.3 CMS Image Streaming\n",
    "#### 2.3.1 Run Mini APP"
   ]
  },
  {
   "cell_type": "code",
   "execution_count": null,
   "metadata": {},
   "outputs": [],
   "source": [
    "%%time\n",
    "import sys, os\n",
    "sys.path.insert(0, \"..\")\n",
    "import pandas as pd\n",
    "import numpy as np\n",
    "import ast\n",
    "import mass.kafka\n",
    "import pykafka\n",
    "\n",
    "#kafka_details= {'master_url': 'c251-134:2181'}\n",
    "#dask_details = {'master_url': 'tcp://c251-129:8786'} \n",
    "\n",
    "miniapp=mass.kafka.MiniApp(\n",
    "                                   dask_scheduler=dask_details['master_url'],\n",
    "                                   #dask_scheduler=None,\n",
    "                                   kafka_zk_hosts=kafka_details[\"master_url\"],\n",
    "                                   number_parallel_tasks=8,\n",
    "                                   number_messages= 50,  # 3 rec/ minute / node\n",
    "                                   number_produces= 1,\n",
    "                                   number_partitions=12,\n",
    "                                   topic_name=\"peakfinder_test\",\n",
    "                                   application_type = \"BNL\",\n",
    "                                   produce_interval=5 # time in sec\n",
    "                                  )\n",
    "#miniapp.run()"
   ]
  },
  {
   "cell_type": "code",
   "execution_count": null,
   "metadata": {},
   "outputs": [],
   "source": []
  },
  {
   "cell_type": "code",
   "execution_count": null,
   "metadata": {},
   "outputs": [],
   "source": []
  },
  {
   "cell_type": "code",
   "execution_count": null,
   "metadata": {},
   "outputs": [],
   "source": []
  },
  {
   "cell_type": "markdown",
   "metadata": {},
   "source": [
    "# Scratch Pad"
   ]
  },
  {
   "cell_type": "code",
   "execution_count": 18,
   "metadata": {
    "collapsed": true
   },
   "outputs": [],
   "source": [
    "client = pykafka.KafkaClient(zookeeper_hosts=kafka_details[\"master_url\"])\n",
    "topic = client.topics['light_test14']\n",
    "consumer = topic.get_simple_consumer(fetch_message_max_bytes=10000000)"
   ]
  },
  {
   "cell_type": "code",
   "execution_count": 19,
   "metadata": {},
   "outputs": [
    {
     "data": {
      "text/plain": [
       "0"
      ]
     },
     "execution_count": 19,
     "metadata": {},
     "output_type": "execute_result"
    }
   ],
   "source": [
    "message = consumer.consume(block=False)\n",
    "message.offset"
   ]
  },
  {
   "cell_type": "code",
   "execution_count": 24,
   "metadata": {},
   "outputs": [
    {
     "data": {
      "text/plain": [
       "2086624"
      ]
     },
     "execution_count": 24,
     "metadata": {},
     "output_type": "execute_result"
    }
   ],
   "source": [
    "len(message.value)"
   ]
  },
  {
   "cell_type": "code",
   "execution_count": 46,
   "metadata": {},
   "outputs": [
    {
     "data": {
      "text/plain": [
       "True"
      ]
     },
     "execution_count": 46,
     "metadata": {},
     "output_type": "execute_result"
    }
   ],
   "source": [
    "reconstruct(message.value)"
   ]
  },
  {
   "cell_type": "code",
   "execution_count": 32,
   "metadata": {},
   "outputs": [
    {
     "data": {
      "text/plain": [
       "pykafka.protocol.Message"
      ]
     },
     "execution_count": 32,
     "metadata": {},
     "output_type": "execute_result"
    }
   ],
   "source": [
    "type(message)"
   ]
  },
  {
   "cell_type": "markdown",
   "metadata": {},
   "source": [
    "For testing serialization"
   ]
  },
  {
   "cell_type": "code",
   "execution_count": 14,
   "metadata": {},
   "outputs": [
    {
     "name": "stdout",
     "output_type": "stream",
     "text": [
      "894844460d0a1a0a0000\n",
      "<type 'str'>\n"
     ]
    }
   ],
   "source": [
    "import pkg_resources, base64\n",
    "import binascii\n",
    "import tempfile\n",
    "\n",
    "data = None\n",
    "with open(\"../mass/tooth.h5\", \"r\") as f:\n",
    "    data = f.read()\n",
    "    \n",
    "data_enc=binascii.hexlify(data)\n",
    "print data_enc[:20]\n",
    "print type(data_enc)\n",
    "\n",
    "tf = tempfile.NamedTemporaryFile(delete=True)\n",
    "#tf = open(\"test.h5\", \"w\")\n",
    "tf.write(binascii.unhexlify(data_enc))\n",
    "tf.flush()\n",
    "proj, flat, dark, theta = dxchange.read_aps_32id(tf.name, sino=(0, 2))"
   ]
  },
  {
   "cell_type": "code",
   "execution_count": 15,
   "metadata": {},
   "outputs": [
    {
     "data": {
      "text/plain": [
       "dtype('float64')"
      ]
     },
     "execution_count": 15,
     "metadata": {},
     "output_type": "execute_result"
    }
   ],
   "source": [
    "theta.dtype"
   ]
  },
  {
   "cell_type": "code",
   "execution_count": 7,
   "metadata": {},
   "outputs": [
    {
     "name": "stdout",
     "output_type": "stream",
     "text": [
      "Total Messages: 0, Read Bytes: 0\n"
     ]
    }
   ],
   "source": [
    "count = 0\n",
    "number_total_points = 0\n",
    "read_bytes = 0\n",
    "for i in range(100):\n",
    "    message = consumer.consume(block=False)\n",
    "    if message is not None:\n",
    "        print \"Message %d, Bytes: %d\"%(count, len(message.value))\n",
    "        reconstruct(message)\n",
    "        read_bytes = read_bytes + len(message.value)\n",
    "        count =  count + 1\n",
    "   \n",
    "        \n",
    "print(\"Total Messages: %d, Read Bytes: %d\"%(count, read_bytes))"
   ]
  },
  {
   "cell_type": "markdown",
   "metadata": {},
   "source": [
    "General Kafka Test"
   ]
  },
  {
   "cell_type": "code",
   "execution_count": 8,
   "metadata": {},
   "outputs": [
    {
     "data": {
      "text/plain": [
       "<pykafka.protocol.Message at 0x2b267f61db50>"
      ]
     },
     "execution_count": 8,
     "metadata": {},
     "output_type": "execute_result"
    }
   ],
   "source": [
    "producer.produce(\"hello\")"
   ]
  },
  {
   "cell_type": "code",
   "execution_count": 9,
   "metadata": {},
   "outputs": [
    {
     "name": "stdout",
     "output_type": "stream",
     "text": [
      "hello\n"
     ]
    }
   ],
   "source": [
    "message = consumer.consume(block=False)\n",
    "print message.value"
   ]
  },
  {
   "cell_type": "code",
   "execution_count": 11,
   "metadata": {},
   "outputs": [
    {
     "data": {
      "text/plain": [
       "{0: <pykafka.partition.Partition at 0x2b267f6b4710 (id=0)>}"
      ]
     },
     "execution_count": 11,
     "metadata": {},
     "output_type": "execute_result"
    }
   ],
   "source": [
    "consumer.partitions"
   ]
  },
  {
   "cell_type": "code",
   "execution_count": 12,
   "metadata": {
    "collapsed": true
   },
   "outputs": [],
   "source": [
    "from distributed import Client\n",
    "dask_distributed_client = Client('tcp://c251-136:8786')\n",
    "\n",
    "#def map_test():\n",
    "#    return 1\n",
    "\n",
    "\n",
    "class DaskTest():\n",
    "    \n",
    "    def __init__(self):\n",
    "        self.dask_distributed_client = Client('tcp://c251-136:8786')\n",
    "\n",
    "\n",
    "    def map_test(self):\n",
    "        return 1\n",
    "    \n",
    "    def run(self):\n",
    "        tasks = []\n",
    "        for block_id in range(3):\n",
    "            tasks.append(self.dask_distributed_client.submit(self.map_test))\n",
    "           \n",
    "        return self.dask_distributed_client.gather(tasks)\n",
    "        "
   ]
  },
  {
   "cell_type": "code",
   "execution_count": null,
   "metadata": {
    "collapsed": true
   },
   "outputs": [],
   "source": [
    "t = DaskTest()\n",
    "t.run()"
   ]
  },
  {
   "cell_type": "code",
   "execution_count": null,
   "metadata": {
    "collapsed": true
   },
   "outputs": [],
   "source": []
  },
  {
   "cell_type": "code",
   "execution_count": 10,
   "metadata": {},
   "outputs": [
    {
     "data": {
      "text/plain": [
       "[1, 1, 1]"
      ]
     },
     "execution_count": 10,
     "metadata": {},
     "output_type": "execute_result"
    }
   ],
   "source": [
    "tasks = []\n",
    "for block_id in range(3):\n",
    "    tasks.append(dask_distributed_client.submit(map_test))\n",
    "           \n",
    "dask_distributed_client.gather(tasks)\n",
    "#f = dask_distributed_client.submit(map_test)"
   ]
  }
 ],
 "metadata": {
  "kernelspec": {
   "display_name": "Python 2",
   "language": "python",
   "name": "python2"
  },
  "language_info": {
   "codemirror_mode": {
    "name": "ipython",
    "version": 2
   },
   "file_extension": ".py",
   "mimetype": "text/x-python",
   "name": "python",
   "nbconvert_exporter": "python",
   "pygments_lexer": "ipython2",
   "version": "2.7.13"
  }
 },
 "nbformat": 4,
 "nbformat_minor": 2
}
