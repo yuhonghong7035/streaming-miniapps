{
 "cells": [
  {
   "cell_type": "markdown",
   "metadata": {},
   "source": [
    "# MASA: Howto Mini App Streaming Source (MASA)"
   ]
  },
  {
   "cell_type": "code",
   "execution_count": 1,
   "metadata": {},
   "outputs": [],
   "source": [
    "%%capture\n",
    "# System Libraries\n",
    "import sys, os\n",
    "sys.path.insert(0, \"..\")\n",
    "import pandas as pd\n",
    "\n",
    "## logging\n",
    "import logging\n",
    "logging.basicConfig(level=logging.DEBUG)\n",
    "logging.getLogger().setLevel(logging.ERROR)\n",
    "logging.getLogger(\"py4j\").setLevel(logging.ERROR)\n",
    "logging.getLogger(\"radical.utils\").setLevel(logging.ERROR)\n",
    " \n",
    "# Pilot-Streaming\n",
    "import pilot.streaming\n",
    "import masa.spark"
   ]
  },
  {
   "cell_type": "markdown",
   "metadata": {},
   "source": [
    "Start Spark Streaming Cluster"
   ]
  },
  {
   "cell_type": "code",
   "execution_count": 4,
   "metadata": {},
   "outputs": [
    {
     "name": "stdout",
     "output_type": "stream",
     "text": [
      "**** Job: 60703 State : Pending\n",
      "Create Spark Context for URL: spark://129.114.58.122:7077\n",
      "Create Spark Context for URL: spark://129.114.58.122:7077\n"
     ]
    }
   ],
   "source": [
    "spark_pilot_description = {\n",
    "    \"resource\":\"slurm+ssh://login1.wrangler.tacc.utexas.edu\",\n",
    "    \"working_directory\": os.path.join('/work/01131/tg804093/wrangler/', \"work\"),\n",
    "    \"number_cores\": 48,\n",
    "    \"project\": \"TG-MCB090174\",\n",
    "    \"queue\": \"normal\",\n",
    "    \"walltime\": 159,\n",
    "    \"type\":\"spark\"\n",
    "}\n",
    "spark_pilot = pilot.streaming.PilotComputeService.create_pilot(spark_pilot_description)\n",
    "spark_pilot.wait()"
   ]
  },
  {
   "cell_type": "markdown",
   "metadata": {},
   "source": [
    "Run Mini-App"
   ]
  },
  {
   "cell_type": "code",
   "execution_count": 2,
   "metadata": {},
   "outputs": [
    {
     "name": "stdout",
     "output_type": "stream",
     "text": [
      "/home/01131/tg804093/work/kafka_2.11-1.0.0/bin/kafka-topics.sh --describe --topic light_test8 --zookeeper c251-121:2181\n",
      "Streaming Window: 60 sec\n"
     ]
    }
   ],
   "source": [
    "import os, sys\n",
    "sys.path.insert(0, \"..\")\n",
    "import masa.spark\n",
    "spark_details = {'master_url':'spark://129.114.58.122:7077'}\n",
    "kafka_details = {'master_url':'c251-121:2181'}\n",
    "streaming_analytics =  masa.spark.MiniApp(spark_master=spark_details[\"master_url\"],\n",
    "                             kafka_zk_hosts=kafka_details[\"master_url\"],\n",
    "                             topic_name = \"light_test8\",\n",
    "                             test_scenario=\"test\",\n",
    "                             application = \"light\"\n",
    "                            )"
   ]
  },
  {
   "cell_type": "code",
   "execution_count": 3,
   "metadata": {},
   "outputs": [
    {
     "name": "stdout",
     "output_type": "stream",
     "text": [
      "spark-submit --master spark://129.114.58.122:7077 --packages org.apache.spark:spark-streaming-kafka-0-8_2.11:2.2.1 --conf 'spark.executor.memory=110g' /home/01131/tg804093/notebooks/streaming-miniapps/masa/spark.py spark://129.114.58.122:7077 c251-121:2181 light_test8 test 60 light\n"
     ]
    }
   ],
   "source": [
    "streaming_analytics.run_in_background()"
   ]
  },
  {
   "cell_type": "code",
   "execution_count": 4,
   "metadata": {},
   "outputs": [],
   "source": [
    "streaming_analytics.cancel()"
   ]
  }
 ],
 "metadata": {
  "kernelspec": {
   "display_name": "Python 3",
   "language": "python",
   "name": "python3"
  },
  "language_info": {
   "codemirror_mode": {
    "name": "ipython",
    "version": 3
   },
   "file_extension": ".py",
   "mimetype": "text/x-python",
   "name": "python",
   "nbconvert_exporter": "python",
   "pygments_lexer": "ipython3",
   "version": "3.6.5"
  }
 },
 "nbformat": 4,
 "nbformat_minor": 2
}
