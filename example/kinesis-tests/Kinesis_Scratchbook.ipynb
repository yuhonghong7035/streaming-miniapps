{
 "cells": [
  {
   "cell_type": "markdown",
   "metadata": {},
   "source": [
    "# Kinesis"
   ]
  },
  {
   "cell_type": "markdown",
   "metadata": {},
   "source": [
    "Create Kinesis Stream and query information"
   ]
  },
  {
   "cell_type": "code",
   "execution_count": null,
   "metadata": {},
   "outputs": [],
   "source": [
    "%%time\n",
    "import os, boto3, uuid, time, json\n",
    "import inspect\n",
    "import zipfile, os, stat\n",
    "\n",
    "boto3.setup_default_session(profile_name='dev')\n",
    "\n",
    "# Configuration\n",
    "iam_role_name='lambda-ai-streaming'\n",
    "unique_id = str(uuid.uuid1())[:5]\n",
    "stream_name = \"stream-\"+ unique_id\n",
    "function_name = \"stream-processing-\"+ unique_id"
   ]
  },
  {
   "cell_type": "code",
   "execution_count": null,
   "metadata": {},
   "outputs": [],
   "source": [
    "%%time\n",
    "kinesis_client = boto3.client('kinesis', region_name='us-east-1')\n",
    "response = kinesis_client.create_stream(\n",
    "    StreamName=stream_name,\n",
    "    ShardCount=1\n",
    ")\n",
    "print(\"Created stream: %s\"%stream_name)\n",
    "stream_arn=kinesis_client.describe_stream(StreamName=stream_name)['StreamDescription']['StreamARN']\n",
    "while kinesis_client.describe_stream(StreamName=stream_name)['StreamDescription']['StreamStatus']!='ACTIVE':\n",
    "    time.sleep(1)\n",
    "    \n",
    "stream_arn"
   ]
  },
  {
   "cell_type": "code",
   "execution_count": null,
   "metadata": {},
   "outputs": [],
   "source": [
    "put_response = kinesis_client.put_record(\n",
    "                        StreamName=stream_name,\n",
    "                        Data=\"Hello World\",\n",
    "                        PartitionKey=\"A\")"
   ]
  },
  {
   "cell_type": "code",
   "execution_count": null,
   "metadata": {},
   "outputs": [],
   "source": [
    "response = kinesis_client.delete_stream(StreamName=stream_name)"
   ]
  },
  {
   "cell_type": "markdown",
   "metadata": {},
   "source": [
    "# Lambda\n",
    "\n"
   ]
  },
  {
   "cell_type": "markdown",
   "metadata": {},
   "source": [
    "## Prepare Source Code for Lambda with Inspect"
   ]
  },
  {
   "cell_type": "code",
   "execution_count": null,
   "metadata": {},
   "outputs": [],
   "source": [
    "import stat\n",
    "def prepare_file(function_ref, file_basename):\n",
    "    print(\"Create function: %s\"%file_basename)\n",
    "    lines = inspect.getsource(function_ref)\n",
    "    with open(file_basename + \".py\", \"w\") as f:\n",
    "        f.write(lines)\n",
    "    os.chmod(file_basename + \".py\", stat.S_IRUSR | tat.S_IWUSR | stat.S_IRGRP | stat.S_IROTH)\n",
    "    with zipfile.ZipFile(file_basename + '.zip', 'w') as myzip:\n",
    "        myzip.write(file_basename + \".py\")\n",
    "    env_variables = dict() # Environment Variables\n",
    "    with open(file_basename + '.zip', 'rb') as f:\n",
    "        zipped_code = f.read()\n",
    "    \n",
    "    os.remove(file_basename + '.zip')\n",
    "    os.remove(file_basename + '.py')\n",
    "    return zipped_code"
   ]
  },
  {
   "cell_type": "code",
   "execution_count": null,
   "metadata": {},
   "outputs": [],
   "source": [
    "def lambda_handler(event, context):\n",
    "    import base64\n",
    "    print(\"Lambda Function called\")\n",
    "    for record in event['Records']:\n",
    "        #Kinesis data is base64 encoded so decode here\n",
    "        payload=base64.b64decode(record[\"kinesis\"][\"data\"])\n",
    "        print(\"Decoded payload: \" + str(payload))"
   ]
  },
  {
   "cell_type": "code",
   "execution_count": null,
   "metadata": {},
   "outputs": [],
   "source": [
    "zipped_code=prepare_file(lambda_handler, function_name)"
   ]
  },
  {
   "cell_type": "markdown",
   "metadata": {},
   "source": [
    "## Setup Lambda"
   ]
  },
  {
   "cell_type": "markdown",
   "metadata": {},
   "source": [
    "Create Lambda Function"
   ]
  },
  {
   "cell_type": "code",
   "execution_count": null,
   "metadata": {},
   "outputs": [],
   "source": [
    "def create_lambda_iam_role(rolename):\n",
    "    iam_client = boto3.client('iam')\n",
    "    role_policy_document = {\n",
    "      \"Version\": \"2012-10-17\",\n",
    "      \"Statement\": [\n",
    "        {\n",
    "          \"Sid\": \"\",\n",
    "          \"Effect\": \"Allow\",\n",
    "          \"Principal\": {\n",
    "            \"Service\": \"lambda.amazonaws.com\"\n",
    "          },\n",
    "          \"Action\": \"sts:AssumeRole\"\n",
    "        }\n",
    "      ]\n",
    "    }\n",
    "    iam_client.create_role(\n",
    "      RoleName=rolename,\n",
    "      AssumeRolePolicyDocument=json.dumps(role_policy_document),\n",
    "    )\n",
    "    role = iam_client.get_role(RoleName=rolename)\n",
    "    response = iam_client.attach_role_policy(\n",
    "        RoleName=rolename,\n",
    "        PolicyArn='arn:aws:iam::aws:policy/AmazonKinesisFullAccess'\n",
    "    )\n",
    "    response = iam_client.attach_role_policy(\n",
    "        RoleName=rolename,\n",
    "        PolicyArn='arn:aws:iam::aws:policy/CloudWatchLogsFullAccess'\n",
    "    )\n",
    "    return role['Role']['Arn']\n",
    "role_arn = create_lambda_iam_role(iam_role_name)\n",
    "role_arn"
   ]
  },
  {
   "cell_type": "code",
   "execution_count": null,
   "metadata": {},
   "outputs": [],
   "source": [
    "lambda_client = boto3.client('lambda', region_name='us-east-1')\n",
    "response = lambda_client.create_function(\n",
    "    FunctionName=function_name,\n",
    "    Runtime='python3.7',\n",
    "    Role=role_arn,\n",
    "    Handler=function_name+'.lambda_handler',\n",
    "    Code={\n",
    "        'ZipFile': zipped_code\n",
    "    },\n",
    "    Description='string'\n",
    "    \n",
    ")\n",
    "lambda_client.get_function(\n",
    "    FunctionName=function_name\n",
    ")"
   ]
  },
  {
   "cell_type": "markdown",
   "metadata": {},
   "source": [
    "Create Event-Source Mapping to Kinesis Stream"
   ]
  },
  {
   "cell_type": "code",
   "execution_count": null,
   "metadata": {},
   "outputs": [],
   "source": [
    "print(\"Create mapping from %s to %s\"%(stream_arn, function_name))\n",
    "response = lambda_client.create_event_source_mapping(\n",
    "    EventSourceArn=stream_arn,\n",
    "    FunctionName=function_name,\n",
    "    Enabled=True,\n",
    "    BatchSize=1,\n",
    "    StartingPosition='LATEST'\n",
    ")"
   ]
  },
  {
   "cell_type": "code",
   "execution_count": null,
   "metadata": {},
   "outputs": [],
   "source": [
    "print(\"Put Message to Stream: \" + stream_name)\n",
    "put_response = kinesis_client.put_record(\n",
    "                        StreamName=stream_name,\n",
    "                        Data=\"Hello World 4\",\n",
    "                        PartitionKey=\"A\")\n",
    "put_response"
   ]
  },
  {
   "cell_type": "code",
   "execution_count": null,
   "metadata": {},
   "outputs": [],
   "source": [
    "response = lambda_client.delete_function(\n",
    "    FunctionName=function_name\n",
    ")"
   ]
  },
  {
   "cell_type": "markdown",
   "metadata": {},
   "source": [
    "## Other Lambda Management Code"
   ]
  },
  {
   "cell_type": "code",
   "execution_count": null,
   "metadata": {},
   "outputs": [],
   "source": [
    "lambda_client.invoke(\n",
    "  FunctionName=function_name,\n",
    "  InvocationType='Event',\n",
    "  Payload=\"{}\",\n",
    ")"
   ]
  },
  {
   "cell_type": "code",
   "execution_count": null,
   "metadata": {},
   "outputs": [],
   "source": [
    "response = lambda_client.update_function_code(\n",
    "    FunctionName=function_name,\n",
    "    ZipFile=prepare_file(lambda_handler, function_name),\n",
    "    RevisionId='883c29c6-2e06-474f-b89c-5d0adf425f28'\n",
    ")"
   ]
  },
  {
   "cell_type": "markdown",
   "metadata": {},
   "source": [
    "# Cleanup"
   ]
  },
  {
   "cell_type": "code",
   "execution_count": null,
   "metadata": {},
   "outputs": [],
   "source": [
    "stream_names=kinesis_client.list_streams()['StreamNames']\n",
    "for i in stream_names:\n",
    "    kinesis_client.delete_stream(StreamName=i)\n",
    "\n",
    "function_names=lambda_client.list_functions()['Functions']\n",
    "for i in function_names:\n",
    "    lambda_client.delete_function(FunctionName=i['FunctionName'])"
   ]
  },
  {
   "cell_type": "markdown",
   "metadata": {},
   "source": [
    "only lambda"
   ]
  },
  {
   "cell_type": "code",
   "execution_count": null,
   "metadata": {},
   "outputs": [],
   "source": [
    "function_names=lambda_client.list_functions()['Functions']\n",
    "for i in function_names:\n",
    "    lambda_client.delete_function(FunctionName=i['FunctionName'])"
   ]
  },
  {
   "cell_type": "markdown",
   "metadata": {},
   "source": [
    "only iam rol"
   ]
  },
  {
   "cell_type": "code",
   "execution_count": null,
   "metadata": {},
   "outputs": [],
   "source": [
    "iam_client.detach_role_policy(RoleName=iam_role_name, PolicyArn='arn:aws:iam::aws:policy/AmazonKinesisFullAccess')\n",
    "iam_client.detach_role_policy(RoleName=iam_role_name, PolicyArn='arn:aws:iam::aws:policy/CloudWatchLogsFullAccess')\n",
    "iam_client.delete_role(RoleName=iam_role_name)"
   ]
  },
  {
   "cell_type": "markdown",
   "metadata": {},
   "source": [
    "# Scratch"
   ]
  },
  {
   "cell_type": "markdown",
   "metadata": {},
   "source": [
    "## Pickle Serialization"
   ]
  },
  {
   "cell_type": "code",
   "execution_count": null,
   "metadata": {},
   "outputs": [],
   "source": [
    "import pickle\n",
    "serialized_function=pickle.dumps(hello_world)"
   ]
  },
  {
   "cell_type": "code",
   "execution_count": null,
   "metadata": {},
   "outputs": [],
   "source": [
    "f=pickle.loads(serialized_function)\n",
    "f()"
   ]
  },
  {
   "cell_type": "code",
   "execution_count": null,
   "metadata": {},
   "outputs": [],
   "source": [
    "with open(\"lambda_test.py\", \"w\") as f:\n",
    "    f.write(\"\"\"\n",
    "import pickle\n",
    "\n",
    "f=pickle.loads(%s)\n",
    "f()\n",
    "\"\"\"%serialized_function)\n",
    "    "
   ]
  },
  {
   "cell_type": "markdown",
   "metadata": {},
   "source": [
    "## Joblib"
   ]
  },
  {
   "cell_type": "code",
   "execution_count": null,
   "metadata": {},
   "outputs": [],
   "source": [
    "import joblib, io\n",
    "with open(\"hello.jl\", 'wb') as f:\n",
    "    joblib.dump(hello_world, f)"
   ]
  },
  {
   "cell_type": "code",
   "execution_count": null,
   "metadata": {},
   "outputs": [],
   "source": [
    "with open(\"hello.jl\", 'rb') as f:\n",
    "    f=joblib.load(f)"
   ]
  },
  {
   "cell_type": "code",
   "execution_count": null,
   "metadata": {},
   "outputs": [],
   "source": [
    "f()"
   ]
  },
  {
   "cell_type": "code",
   "execution_count": null,
   "metadata": {},
   "outputs": [],
   "source": [
    "output = io.BytesIO()\n",
    "hello_world.__module__==\"__main__\"\n",
    "joblib.dump(hello_world, output)"
   ]
  },
  {
   "cell_type": "code",
   "execution_count": null,
   "metadata": {},
   "outputs": [],
   "source": [
    "output.getvalue()"
   ]
  },
  {
   "cell_type": "code",
   "execution_count": null,
   "metadata": {},
   "outputs": [],
   "source": [
    "deser_output = io.BytesIO()\n",
    "deser_output.write(output.getvalue())\n",
    "f=joblib.load(deser_output)"
   ]
  },
  {
   "cell_type": "code",
   "execution_count": null,
   "metadata": {},
   "outputs": [],
   "source": [
    "f()"
   ]
  },
  {
   "cell_type": "code",
   "execution_count": null,
   "metadata": {},
   "outputs": [],
   "source": [
    "with open(\"tmp_lambda_test_job.py\", \"w\") as f:\n",
    "    f.write(\"\"\"\n",
    "import joblib\n",
    "deser_output = io.BytesIO()\n",
    "deser_output.write(%s)\n",
    "f=joblib.load(deser_output)\n",
    "f()\n",
    "\"\"\"%output.getvalue())"
   ]
  },
  {
   "cell_type": "markdown",
   "metadata": {},
   "source": [
    "## Dill"
   ]
  },
  {
   "cell_type": "code",
   "execution_count": null,
   "metadata": {},
   "outputs": [],
   "source": [
    "import dill\n",
    "o=dill.dumps(hello_world)"
   ]
  },
  {
   "cell_type": "code",
   "execution_count": null,
   "metadata": {},
   "outputs": [],
   "source": [
    "dill.loads(o)()"
   ]
  },
  {
   "cell_type": "code",
   "execution_count": null,
   "metadata": {},
   "outputs": [],
   "source": [
    "with open(\"tmp_lambda_test_job.py\", \"w\") as f:\n",
    "    f.write(\"\"\"import dill\n",
    "f=dill.loads(%s)\n",
    "f()\n",
    "\"\"\"%o)"
   ]
  },
  {
   "cell_type": "code",
   "execution_count": null,
   "metadata": {},
   "outputs": [],
   "source": []
  }
 ],
 "metadata": {
  "kernelspec": {
   "display_name": "Python 3",
   "language": "python",
   "name": "python3"
  },
  "language_info": {
   "codemirror_mode": {
    "name": "ipython",
    "version": 3
   },
   "file_extension": ".py",
   "mimetype": "text/x-python",
   "name": "python",
   "nbconvert_exporter": "python",
   "pygments_lexer": "ipython3",
   "version": "3.7.0"
  },
  "toc-autonumbering": true
 },
 "nbformat": 4,
 "nbformat_minor": 2
}
