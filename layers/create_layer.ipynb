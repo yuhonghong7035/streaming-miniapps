{
 "cells": [
  {
   "cell_type": "markdown",
   "metadata": {},
   "source": [
    "# Create Layer for Lambda\n",
    "\n",
    "see <https://nordcloud.com/lambda-layers-for-python-runtime/>"
   ]
  },
  {
   "cell_type": "code",
   "execution_count": null,
   "metadata": {},
   "outputs": [],
   "source": [
    "!rm -rf build\n",
    "PY_DIR='build/python/lib/python3.7/site-packages'\n",
    "!mkdir -p {PY_DIR}\n",
    "!pip install -r requirements.txt --no-deps -t {PY_DIR}"
   ]
  },
  {
   "cell_type": "code",
   "execution_count": null,
   "metadata": {},
   "outputs": [],
   "source": [
    "!chmod -R go+r build/"
   ]
  },
  {
   "cell_type": "code",
   "execution_count": null,
   "metadata": {},
   "outputs": [],
   "source": [
    "!find build/ -type d -exec chmod 755 {} \\;"
   ]
  },
  {
   "cell_type": "code",
   "execution_count": null,
   "metadata": {},
   "outputs": [],
   "source": [
    "!rm sklearn.zip\n",
    "!cd {PY_DIR} && zip -r9 ../../../../../sklearn.zip .   "
   ]
  },
  {
   "cell_type": "code",
   "execution_count": null,
   "metadata": {},
   "outputs": [],
   "source": [
    "!aws s3 mb s3://lambda-scikit-bucket --region us-east-1 --profile dev"
   ]
  },
  {
   "cell_type": "code",
   "execution_count": null,
   "metadata": {},
   "outputs": [],
   "source": [
    "!aws s3 cp ./sklearn.zip s3://lambda-scikit-bucket/ --profile dev"
   ]
  },
  {
   "cell_type": "code",
   "execution_count": null,
   "metadata": {},
   "outputs": [],
   "source": [
    "!aws lambda publish-layer-version \\\n",
    "                        --region us-east-1 --layer-name sklearn \\\n",
    "                        --compatible-runtimes python3.7\\\n",
    "                        --content S3Bucket=lambda-scikit-bucket,S3Key=sklearn.zip --profile dev"
   ]
  }
 ],
 "metadata": {
  "kernelspec": {
   "display_name": "Python 3",
   "language": "python",
   "name": "python3"
  },
  "language_info": {
   "codemirror_mode": {
    "name": "ipython",
    "version": 3
   },
   "file_extension": ".py",
   "mimetype": "text/x-python",
   "name": "python",
   "nbconvert_exporter": "python",
   "pygments_lexer": "ipython3",
   "version": "3.6.6"
  }
 },
 "nbformat": 4,
 "nbformat_minor": 2
}
